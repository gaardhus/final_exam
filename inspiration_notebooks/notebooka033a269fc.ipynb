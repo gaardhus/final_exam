{
 "cells": [
  {
   "cell_type": "code",
   "execution_count": 1,
   "id": "complimentary-diploma",
   "metadata": {
    "_cell_guid": "b1076dfc-b9ad-4769-8c92-a6c4dae69d19",
    "_uuid": "8f2839f25d086af736a60e9eeb907d3b93b6e0e5",
    "execution": {
     "iopub.execute_input": "2021-04-29T21:20:06.254970Z",
     "iopub.status.busy": "2021-04-29T21:20:06.254377Z",
     "iopub.status.idle": "2021-04-29T21:20:14.751552Z",
     "shell.execute_reply": "2021-04-29T21:20:14.750478Z"
    },
    "papermill": {
     "duration": 8.544565,
     "end_time": "2021-04-29T21:20:14.751735",
     "exception": false,
     "start_time": "2021-04-29T21:20:06.207170",
     "status": "completed"
    },
    "tags": []
   },
   "outputs": [],
   "source": [
    "import numpy as np\n",
    "import pandas as pd\n",
    "import os\n",
    "import matplotlib.pyplot as plt\n",
    "import seaborn as sns\n",
    "import IPython.display as ipd\n",
    "from tqdm import tqdm\n",
    "from PIL import Image\n",
    "import tensorflow as tf\n",
    "import cv2\n",
    "import skimage.io\n",
    "\n",
    "#to play audio\n",
    "import librosa\n",
    "import librosa.display\n",
    "import sklearn.model_selection as sk\n",
    "import tensorflow as tf\n",
    "from keras.callbacks import EarlyStopping\n",
    "from keras.callbacks import ModelCheckpoint"
   ]
  },
  {
   "cell_type": "code",
   "execution_count": 2,
   "id": "ruled-genome",
   "metadata": {
    "execution": {
     "iopub.execute_input": "2021-04-29T21:20:14.826999Z",
     "iopub.status.busy": "2021-04-29T21:20:14.826371Z",
     "iopub.status.idle": "2021-04-29T21:20:14.829433Z",
     "shell.execute_reply": "2021-04-29T21:20:14.828796Z"
    },
    "papermill": {
     "duration": 0.042836,
     "end_time": "2021-04-29T21:20:14.829564",
     "exception": false,
     "start_time": "2021-04-29T21:20:14.786728",
     "status": "completed"
    },
    "tags": []
   },
   "outputs": [],
   "source": [
    "train_datadir = \"../input/birdclef-2021/train_short_audio\"\n",
    "soundscapes = '../input/birdclef-2021/train_soundscapes'\n",
    "train_csv = \"../input/birdclef-2021/train_metadata.csv\"\n",
    "test_csv = \"../input/birdclef-2021/test.csv\"\n",
    "train_soundscape = \"../input/birdclef-2021/train_soundscape_labels.csv\"\n",
    "output_dir = \"../output/kaggle/working\""
   ]
  },
  {
   "cell_type": "code",
   "execution_count": 3,
   "id": "retained-award",
   "metadata": {
    "execution": {
     "iopub.execute_input": "2021-04-29T21:20:14.906325Z",
     "iopub.status.busy": "2021-04-29T21:20:14.905593Z",
     "iopub.status.idle": "2021-04-29T21:20:14.907985Z",
     "shell.execute_reply": "2021-04-29T21:20:14.908477Z"
    },
    "papermill": {
     "duration": 0.043307,
     "end_time": "2021-04-29T21:20:14.908635",
     "exception": false,
     "start_time": "2021-04-29T21:20:14.865328",
     "status": "completed"
    },
    "tags": []
   },
   "outputs": [],
   "source": [
    "sample_rate = 32000\n",
    "duration = 10.0\n",
    "offset = 1.0\n",
    "hop_length = 512 # number of samples per time-step in spectrogram\n",
    "n_mels = 128 # number of bins in spectrogram. Height of image\n",
    "time_steps = 384 # number of time-steps. Width of image\n",
    "threshold = 0.01"
   ]
  },
  {
   "cell_type": "code",
   "execution_count": 4,
   "id": "respiratory-extent",
   "metadata": {
    "execution": {
     "iopub.execute_input": "2021-04-29T21:20:14.987893Z",
     "iopub.status.busy": "2021-04-29T21:20:14.986964Z",
     "iopub.status.idle": "2021-04-29T21:20:15.537241Z",
     "shell.execute_reply": "2021-04-29T21:20:15.537773Z"
    },
    "papermill": {
     "duration": 0.59337,
     "end_time": "2021-04-29T21:20:15.537943",
     "exception": false,
     "start_time": "2021-04-29T21:20:14.944573",
     "status": "completed"
    },
    "tags": []
   },
   "outputs": [],
   "source": [
    "df_train_metadata = pd.read_csv(train_csv)\n",
    "df_train_soundscape = pd.read_csv(train_soundscape)\n",
    "df_test = pd.read_csv(test_csv)"
   ]
  },
  {
   "cell_type": "code",
   "execution_count": 5,
   "id": "affecting-rally",
   "metadata": {
    "execution": {
     "iopub.execute_input": "2021-04-29T21:20:15.612323Z",
     "iopub.status.busy": "2021-04-29T21:20:15.611635Z",
     "iopub.status.idle": "2021-04-29T21:20:15.648744Z",
     "shell.execute_reply": "2021-04-29T21:20:15.649338Z"
    },
    "papermill": {
     "duration": 0.075854,
     "end_time": "2021-04-29T21:20:15.649507",
     "exception": false,
     "start_time": "2021-04-29T21:20:15.573653",
     "status": "completed"
    },
    "tags": []
   },
   "outputs": [
    {
     "data": {
      "text/html": [
       "<div>\n",
       "<style scoped>\n",
       "    .dataframe tbody tr th:only-of-type {\n",
       "        vertical-align: middle;\n",
       "    }\n",
       "\n",
       "    .dataframe tbody tr th {\n",
       "        vertical-align: top;\n",
       "    }\n",
       "\n",
       "    .dataframe thead th {\n",
       "        text-align: right;\n",
       "    }\n",
       "</style>\n",
       "<table border=\"1\" class=\"dataframe\">\n",
       "  <thead>\n",
       "    <tr style=\"text-align: right;\">\n",
       "      <th></th>\n",
       "      <th>primary_label</th>\n",
       "      <th>secondary_labels</th>\n",
       "      <th>type</th>\n",
       "      <th>latitude</th>\n",
       "      <th>longitude</th>\n",
       "      <th>scientific_name</th>\n",
       "      <th>common_name</th>\n",
       "      <th>author</th>\n",
       "      <th>date</th>\n",
       "      <th>filename</th>\n",
       "      <th>license</th>\n",
       "      <th>rating</th>\n",
       "      <th>time</th>\n",
       "      <th>url</th>\n",
       "    </tr>\n",
       "  </thead>\n",
       "  <tbody>\n",
       "    <tr>\n",
       "      <th>0</th>\n",
       "      <td>acafly</td>\n",
       "      <td>['amegfi']</td>\n",
       "      <td>['begging call', 'call', 'juvenile']</td>\n",
       "      <td>35.3860</td>\n",
       "      <td>-84.1250</td>\n",
       "      <td>Empidonax virescens</td>\n",
       "      <td>Acadian Flycatcher</td>\n",
       "      <td>Mike Nelson</td>\n",
       "      <td>2012-08-12</td>\n",
       "      <td>XC109605.ogg</td>\n",
       "      <td>Creative Commons Attribution-NonCommercial-Sha...</td>\n",
       "      <td>2.5</td>\n",
       "      <td>09:30</td>\n",
       "      <td>https://www.xeno-canto.org/109605</td>\n",
       "    </tr>\n",
       "    <tr>\n",
       "      <th>1</th>\n",
       "      <td>acafly</td>\n",
       "      <td>[]</td>\n",
       "      <td>['call']</td>\n",
       "      <td>9.1334</td>\n",
       "      <td>-79.6501</td>\n",
       "      <td>Empidonax virescens</td>\n",
       "      <td>Acadian Flycatcher</td>\n",
       "      <td>Allen T. Chartier</td>\n",
       "      <td>2000-12-26</td>\n",
       "      <td>XC11209.ogg</td>\n",
       "      <td>Creative Commons Attribution-NonCommercial-Sha...</td>\n",
       "      <td>3.0</td>\n",
       "      <td>?</td>\n",
       "      <td>https://www.xeno-canto.org/11209</td>\n",
       "    </tr>\n",
       "    <tr>\n",
       "      <th>2</th>\n",
       "      <td>acafly</td>\n",
       "      <td>[]</td>\n",
       "      <td>['call']</td>\n",
       "      <td>5.7813</td>\n",
       "      <td>-75.7452</td>\n",
       "      <td>Empidonax virescens</td>\n",
       "      <td>Acadian Flycatcher</td>\n",
       "      <td>Sergio Chaparro-Herrera</td>\n",
       "      <td>2012-01-10</td>\n",
       "      <td>XC127032.ogg</td>\n",
       "      <td>Creative Commons Attribution-NonCommercial-Sha...</td>\n",
       "      <td>3.0</td>\n",
       "      <td>15:20</td>\n",
       "      <td>https://www.xeno-canto.org/127032</td>\n",
       "    </tr>\n",
       "    <tr>\n",
       "      <th>3</th>\n",
       "      <td>acafly</td>\n",
       "      <td>['whwbec1']</td>\n",
       "      <td>['call']</td>\n",
       "      <td>4.6717</td>\n",
       "      <td>-75.6283</td>\n",
       "      <td>Empidonax virescens</td>\n",
       "      <td>Acadian Flycatcher</td>\n",
       "      <td>Oscar Humberto Marin-Gomez</td>\n",
       "      <td>2009-06-19</td>\n",
       "      <td>XC129974.ogg</td>\n",
       "      <td>Creative Commons Attribution-NonCommercial-Sha...</td>\n",
       "      <td>3.5</td>\n",
       "      <td>07:50</td>\n",
       "      <td>https://www.xeno-canto.org/129974</td>\n",
       "    </tr>\n",
       "    <tr>\n",
       "      <th>4</th>\n",
       "      <td>acafly</td>\n",
       "      <td>['whwbec1']</td>\n",
       "      <td>['call']</td>\n",
       "      <td>4.6717</td>\n",
       "      <td>-75.6283</td>\n",
       "      <td>Empidonax virescens</td>\n",
       "      <td>Acadian Flycatcher</td>\n",
       "      <td>Oscar Humberto Marin-Gomez</td>\n",
       "      <td>2009-06-19</td>\n",
       "      <td>XC129981.ogg</td>\n",
       "      <td>Creative Commons Attribution-NonCommercial-Sha...</td>\n",
       "      <td>3.5</td>\n",
       "      <td>07:50</td>\n",
       "      <td>https://www.xeno-canto.org/129981</td>\n",
       "    </tr>\n",
       "  </tbody>\n",
       "</table>\n",
       "</div>"
      ],
      "text/plain": [
       "  primary_label secondary_labels                                  type  \\\n",
       "0        acafly       ['amegfi']  ['begging call', 'call', 'juvenile']   \n",
       "1        acafly               []                              ['call']   \n",
       "2        acafly               []                              ['call']   \n",
       "3        acafly      ['whwbec1']                              ['call']   \n",
       "4        acafly      ['whwbec1']                              ['call']   \n",
       "\n",
       "   latitude  longitude      scientific_name         common_name  \\\n",
       "0   35.3860   -84.1250  Empidonax virescens  Acadian Flycatcher   \n",
       "1    9.1334   -79.6501  Empidonax virescens  Acadian Flycatcher   \n",
       "2    5.7813   -75.7452  Empidonax virescens  Acadian Flycatcher   \n",
       "3    4.6717   -75.6283  Empidonax virescens  Acadian Flycatcher   \n",
       "4    4.6717   -75.6283  Empidonax virescens  Acadian Flycatcher   \n",
       "\n",
       "                       author        date      filename  \\\n",
       "0                 Mike Nelson  2012-08-12  XC109605.ogg   \n",
       "1           Allen T. Chartier  2000-12-26   XC11209.ogg   \n",
       "2     Sergio Chaparro-Herrera  2012-01-10  XC127032.ogg   \n",
       "3  Oscar Humberto Marin-Gomez  2009-06-19  XC129974.ogg   \n",
       "4  Oscar Humberto Marin-Gomez  2009-06-19  XC129981.ogg   \n",
       "\n",
       "                                             license  rating   time  \\\n",
       "0  Creative Commons Attribution-NonCommercial-Sha...     2.5  09:30   \n",
       "1  Creative Commons Attribution-NonCommercial-Sha...     3.0      ?   \n",
       "2  Creative Commons Attribution-NonCommercial-Sha...     3.0  15:20   \n",
       "3  Creative Commons Attribution-NonCommercial-Sha...     3.5  07:50   \n",
       "4  Creative Commons Attribution-NonCommercial-Sha...     3.5  07:50   \n",
       "\n",
       "                                 url  \n",
       "0  https://www.xeno-canto.org/109605  \n",
       "1   https://www.xeno-canto.org/11209  \n",
       "2  https://www.xeno-canto.org/127032  \n",
       "3  https://www.xeno-canto.org/129974  \n",
       "4  https://www.xeno-canto.org/129981  "
      ]
     },
     "execution_count": 5,
     "metadata": {},
     "output_type": "execute_result"
    }
   ],
   "source": [
    "df_train_metadata.head()"
   ]
  },
  {
   "cell_type": "code",
   "execution_count": 6,
   "id": "selective-strap",
   "metadata": {
    "execution": {
     "iopub.execute_input": "2021-04-29T21:20:15.725537Z",
     "iopub.status.busy": "2021-04-29T21:20:15.724934Z",
     "iopub.status.idle": "2021-04-29T21:20:15.944717Z",
     "shell.execute_reply": "2021-04-29T21:20:15.945266Z"
    },
    "papermill": {
     "duration": 0.259168,
     "end_time": "2021-04-29T21:20:15.945438",
     "exception": false,
     "start_time": "2021-04-29T21:20:15.686270",
     "status": "completed"
    },
    "tags": []
   },
   "outputs": [
    {
     "data": {
      "text/plain": [
       "array([[<AxesSubplot:title={'center':'rating'}>]], dtype=object)"
      ]
     },
     "execution_count": 6,
     "metadata": {},
     "output_type": "execute_result"
    },
    {
     "data": {
      "image/png": "[encoded data removed]",
      "text/plain": [
       "<Figure size 720x360 with 1 Axes>"
      ]
     },
     "metadata": {
      "needs_background": "light"
     },
     "output_type": "display_data"
    }
   ],
   "source": [
    "df_train_metadata.hist(column='rating', figsize=(10, 5))"
   ]
  },
  {
   "cell_type": "code",
   "execution_count": 7,
   "id": "recent-accent",
   "metadata": {
    "execution": {
     "iopub.execute_input": "2021-04-29T21:20:16.024735Z",
     "iopub.status.busy": "2021-04-29T21:20:16.023780Z",
     "iopub.status.idle": "2021-04-29T21:20:17.383752Z",
     "shell.execute_reply": "2021-04-29T21:20:17.384218Z"
    },
    "papermill": {
     "duration": 1.401764,
     "end_time": "2021-04-29T21:20:17.384387",
     "exception": false,
     "start_time": "2021-04-29T21:20:15.982623",
     "status": "completed"
    },
    "tags": []
   },
   "outputs": [
    {
     "data": {
      "text/plain": [
       "<AxesSubplot:>"
      ]
     },
     "execution_count": 7,
     "metadata": {},
     "output_type": "execute_result"
    },
    {
     "data": {
      "image/png": "[encoded data removed]",
      "text/plain": [
       "<Figure size 1440x720 with 1 Axes>"
      ]
     },
     "metadata": {
      "needs_background": "light"
     },
     "output_type": "display_data"
    }
   ],
   "source": [
    "df_train_metadata['primary_label'].value_counts()[:100].plot(kind=\"bar\", figsize=(20, 10), rot=90)"
   ]
  },
  {
   "cell_type": "code",
   "execution_count": 8,
   "id": "eligible-judges",
   "metadata": {
    "execution": {
     "iopub.execute_input": "2021-04-29T21:20:17.473684Z",
     "iopub.status.busy": "2021-04-29T21:20:17.473001Z",
     "iopub.status.idle": "2021-04-29T21:20:17.476718Z",
     "shell.execute_reply": "2021-04-29T21:20:17.477236Z"
    },
    "papermill": {
     "duration": 0.053842,
     "end_time": "2021-04-29T21:20:17.477415",
     "exception": false,
     "start_time": "2021-04-29T21:20:17.423573",
     "status": "completed"
    },
    "tags": []
   },
   "outputs": [
    {
     "data": {
      "text/html": [
       "<div>\n",
       "<style scoped>\n",
       "    .dataframe tbody tr th:only-of-type {\n",
       "        vertical-align: middle;\n",
       "    }\n",
       "\n",
       "    .dataframe tbody tr th {\n",
       "        vertical-align: top;\n",
       "    }\n",
       "\n",
       "    .dataframe thead th {\n",
       "        text-align: right;\n",
       "    }\n",
       "</style>\n",
       "<table border=\"1\" class=\"dataframe\">\n",
       "  <thead>\n",
       "    <tr style=\"text-align: right;\">\n",
       "      <th></th>\n",
       "      <th>row_id</th>\n",
       "      <th>site</th>\n",
       "      <th>audio_id</th>\n",
       "      <th>seconds</th>\n",
       "      <th>birds</th>\n",
       "    </tr>\n",
       "  </thead>\n",
       "  <tbody>\n",
       "    <tr>\n",
       "      <th>0</th>\n",
       "      <td>7019_COR_5</td>\n",
       "      <td>COR</td>\n",
       "      <td>7019</td>\n",
       "      <td>5</td>\n",
       "      <td>nocall</td>\n",
       "    </tr>\n",
       "    <tr>\n",
       "      <th>1</th>\n",
       "      <td>7019_COR_10</td>\n",
       "      <td>COR</td>\n",
       "      <td>7019</td>\n",
       "      <td>10</td>\n",
       "      <td>nocall</td>\n",
       "    </tr>\n",
       "    <tr>\n",
       "      <th>2</th>\n",
       "      <td>7019_COR_15</td>\n",
       "      <td>COR</td>\n",
       "      <td>7019</td>\n",
       "      <td>15</td>\n",
       "      <td>nocall</td>\n",
       "    </tr>\n",
       "    <tr>\n",
       "      <th>3</th>\n",
       "      <td>7019_COR_20</td>\n",
       "      <td>COR</td>\n",
       "      <td>7019</td>\n",
       "      <td>20</td>\n",
       "      <td>nocall</td>\n",
       "    </tr>\n",
       "    <tr>\n",
       "      <th>4</th>\n",
       "      <td>7019_COR_25</td>\n",
       "      <td>COR</td>\n",
       "      <td>7019</td>\n",
       "      <td>25</td>\n",
       "      <td>nocall</td>\n",
       "    </tr>\n",
       "  </tbody>\n",
       "</table>\n",
       "</div>"
      ],
      "text/plain": [
       "        row_id site  audio_id  seconds   birds\n",
       "0   7019_COR_5  COR      7019        5  nocall\n",
       "1  7019_COR_10  COR      7019       10  nocall\n",
       "2  7019_COR_15  COR      7019       15  nocall\n",
       "3  7019_COR_20  COR      7019       20  nocall\n",
       "4  7019_COR_25  COR      7019       25  nocall"
      ]
     },
     "execution_count": 8,
     "metadata": {},
     "output_type": "execute_result"
    }
   ],
   "source": [
    "df_train_soundscape.head()"
   ]
  },
  {
   "cell_type": "code",
   "execution_count": 9,
   "id": "fiscal-partner",
   "metadata": {
    "execution": {
     "iopub.execute_input": "2021-04-29T21:20:17.563202Z",
     "iopub.status.busy": "2021-04-29T21:20:17.562510Z",
     "iopub.status.idle": "2021-04-29T21:20:17.565135Z",
     "shell.execute_reply": "2021-04-29T21:20:17.565620Z"
    },
    "papermill": {
     "duration": 0.048111,
     "end_time": "2021-04-29T21:20:17.565794",
     "exception": false,
     "start_time": "2021-04-29T21:20:17.517683",
     "status": "completed"
    },
    "tags": []
   },
   "outputs": [],
   "source": [
    "def scale_minmax(x, min=0.0, max=1.0):\n",
    "    x_std = (x - x.min()) / (x.max() - x.min())\n",
    "    x_scaled = x_std * (max - min) + min\n",
    "    return x_scaled"
   ]
  },
  {
   "cell_type": "code",
   "execution_count": 10,
   "id": "discrete-stereo",
   "metadata": {
    "execution": {
     "iopub.execute_input": "2021-04-29T21:20:17.652552Z",
     "iopub.status.busy": "2021-04-29T21:20:17.651895Z",
     "iopub.status.idle": "2021-04-29T21:20:17.654425Z",
     "shell.execute_reply": "2021-04-29T21:20:17.653819Z"
    },
    "papermill": {
     "duration": 0.048547,
     "end_time": "2021-04-29T21:20:17.654558",
     "exception": false,
     "start_time": "2021-04-29T21:20:17.606011",
     "status": "completed"
    },
    "tags": []
   },
   "outputs": [],
   "source": [
    "def spectrogram_image(y, sr, out, hop_length, n_mels):\n",
    "    # use log-melspectrogram\n",
    "    mels = librosa.feature.melspectrogram(\n",
    "        y=y, \n",
    "        sr=sr, \n",
    "        n_mels=n_mels,                   \n",
    "        n_fft=hop_length*2, \n",
    "        hop_length=hop_length\n",
    "    )\n",
    "    mels = np.log(mels + 1e-9) # add small number to avoid log(0)\n",
    "\n",
    "    # min-max scale to fit inside 8-bit range\n",
    "    img = scale_minmax(mels, 0, 255).astype(np.uint8)\n",
    "    img = np.flip(img, axis=0) # put low frequencies at the bottom in image\n",
    "    img = 255-img # invert. make black==more energy\n",
    "\n",
    "    # save as PNG\n",
    "    skimage.io.imsave(out, img)"
   ]
  },
  {
   "cell_type": "code",
   "execution_count": 11,
   "id": "reported-mining",
   "metadata": {
    "execution": {
     "iopub.execute_input": "2021-04-29T21:20:17.737460Z",
     "iopub.status.busy": "2021-04-29T21:20:17.736816Z",
     "iopub.status.idle": "2021-04-29T21:20:17.743628Z",
     "shell.execute_reply": "2021-04-29T21:20:17.742954Z"
    },
    "papermill": {
     "duration": 0.049393,
     "end_time": "2021-04-29T21:20:17.743759",
     "exception": false,
     "start_time": "2021-04-29T21:20:17.694366",
     "status": "completed"
    },
    "tags": []
   },
   "outputs": [],
   "source": [
    "def extract_links_and_labels(data_dir):\n",
    "    audio_clips = []\n",
    "    folder_names = []\n",
    "    file_names = []\n",
    "    birds = os.listdir(data_dir)\n",
    "    labels = []\n",
    "\n",
    "    for bird in birds:\n",
    "        for clip in os.listdir(data_dir + \"/\" + bird):\n",
    "            folder_names.append(bird)\n",
    "            file_names.append(clip.split(\".ogg\")[0])\n",
    "            audio_clips.append(data_dir +  \"/\" + bird + \"/\" + clip)\n",
    "            labels.append(bird)\n",
    "    \n",
    "    return folder_names, file_names, audio_clips, labels"
   ]
  },
  {
   "cell_type": "code",
   "execution_count": 12,
   "id": "nominated-progress",
   "metadata": {
    "execution": {
     "iopub.execute_input": "2021-04-29T21:20:17.828318Z",
     "iopub.status.busy": "2021-04-29T21:20:17.827497Z",
     "iopub.status.idle": "2021-04-29T21:20:28.995277Z",
     "shell.execute_reply": "2021-04-29T21:20:28.994572Z"
    },
    "papermill": {
     "duration": 11.211738,
     "end_time": "2021-04-29T21:20:28.995427",
     "exception": false,
     "start_time": "2021-04-29T21:20:17.783689",
     "status": "completed"
    },
    "tags": []
   },
   "outputs": [],
   "source": [
    "folder_names, file_names, train_audio_clips, labels = extract_links_and_labels(train_datadir)"
   ]
  },
  {
   "cell_type": "code",
   "execution_count": 13,
   "id": "orange-biography",
   "metadata": {
    "execution": {
     "iopub.execute_input": "2021-04-29T21:20:29.104879Z",
     "iopub.status.busy": "2021-04-29T21:20:29.103900Z",
     "iopub.status.idle": "2021-04-29T21:20:29.370961Z",
     "shell.execute_reply": "2021-04-29T21:20:29.369827Z"
    },
    "papermill": {
     "duration": 0.329773,
     "end_time": "2021-04-29T21:20:29.371155",
     "exception": false,
     "start_time": "2021-04-29T21:20:29.041382",
     "status": "completed"
    },
    "tags": []
   },
   "outputs": [],
   "source": [
    "train_audio_clips = []\n",
    "folder_names = []\n",
    "file_names = []\n",
    "birds = os.listdir(train_datadir)\n",
    "labels = []\n",
    "\n",
    "for bird in birds:\n",
    "    for clip in os.listdir(train_datadir +  \"/\" + bird):\n",
    "        folder_names.append(bird)\n",
    "        file_names.append(clip.split(\".ogg\")[0])\n",
    "        train_audio_clips.append(train_datadir +  \"/\" + bird + \"/\" + clip)\n",
    "        labels.append(bird)"
   ]
  },
  {
   "cell_type": "code",
   "execution_count": 14,
   "id": "external-highland",
   "metadata": {
    "execution": {
     "iopub.execute_input": "2021-04-29T21:20:29.471197Z",
     "iopub.status.busy": "2021-04-29T21:20:29.470515Z",
     "iopub.status.idle": "2021-04-29T21:20:30.196987Z",
     "shell.execute_reply": "2021-04-29T21:20:30.196469Z"
    },
    "papermill": {
     "duration": 0.785628,
     "end_time": "2021-04-29T21:20:30.197152",
     "exception": false,
     "start_time": "2021-04-29T21:20:29.411524",
     "status": "completed"
    },
    "tags": []
   },
   "outputs": [],
   "source": [
    "!rm -rf kaggle/working"
   ]
  },
  {
   "cell_type": "code",
   "execution_count": 15,
   "id": "collaborative-temple",
   "metadata": {
    "execution": {
     "iopub.execute_input": "2021-04-29T21:20:30.289134Z",
     "iopub.status.busy": "2021-04-29T21:20:30.283305Z",
     "iopub.status.idle": "2021-04-29T21:20:31.016418Z",
     "shell.execute_reply": "2021-04-29T21:20:31.015697Z"
    },
    "papermill": {
     "duration": 0.778901,
     "end_time": "2021-04-29T21:20:31.016562",
     "exception": false,
     "start_time": "2021-04-29T21:20:30.237661",
     "status": "completed"
    },
    "tags": []
   },
   "outputs": [],
   "source": [
    "!mkdir train_images"
   ]
  },
  {
   "cell_type": "code",
   "execution_count": 16,
   "id": "discrete-copyright",
   "metadata": {
    "execution": {
     "iopub.execute_input": "2021-04-29T21:20:31.106660Z",
     "iopub.status.busy": "2021-04-29T21:20:31.105982Z",
     "iopub.status.idle": "2021-04-29T21:20:31.108559Z",
     "shell.execute_reply": "2021-04-29T21:20:31.107950Z"
    },
    "papermill": {
     "duration": 0.051121,
     "end_time": "2021-04-29T21:20:31.108690",
     "exception": false,
     "start_time": "2021-04-29T21:20:31.057569",
     "status": "completed"
    },
    "tags": []
   },
   "outputs": [],
   "source": [
    "def extract_spectogram(path, folder_name, file_name):\n",
    "    start_sample = 0 # starting at beginning\n",
    "    length_samples = time_steps * hop_length\n",
    "    counter = 0\n",
    "    y, sr = librosa.load(path, offset=offset, duration=duration, sr=sample_rate)\n",
    "    while (start_sample <= len(y) and start_sample + length_samples <= len(y)):\n",
    "        # extract a fixed length window\n",
    "        window = y[start_sample: start_sample + length_samples]\n",
    "        # convert to PNG\n",
    "        if not os.path.exists('train_images/' + folder_name):\n",
    "            os.makedirs('train_images/' + folder_name)\n",
    "        spectrogram_image(window, \n",
    "                          sr=sr, \n",
    "                          out='train_images/' + folder_name + \"/\" + file_name + \"_\" + str(counter) + \".png\", \n",
    "                          hop_length=hop_length, \n",
    "                          n_mels=n_mels)\n",
    "        start_sample = start_sample + length_samples\n",
    "        counter += 1"
   ]
  },
  {
   "cell_type": "code",
   "execution_count": 17,
   "id": "fluid-stamp",
   "metadata": {
    "execution": {
     "iopub.execute_input": "2021-04-29T21:20:31.194996Z",
     "iopub.status.busy": "2021-04-29T21:20:31.194408Z",
     "iopub.status.idle": "2021-04-29T21:20:31.251716Z",
     "shell.execute_reply": "2021-04-29T21:20:31.252613Z"
    },
    "papermill": {
     "duration": 0.103339,
     "end_time": "2021-04-29T21:20:31.252875",
     "exception": false,
     "start_time": "2021-04-29T21:20:31.149536",
     "status": "completed"
    },
    "tags": []
   },
   "outputs": [],
   "source": [
    "extract_spectogram(train_audio_clips[0], folder_names[0], file_names[0])"
   ]
  },
  {
   "cell_type": "code",
   "execution_count": 18,
   "id": "promising-colonial",
   "metadata": {
    "execution": {
     "iopub.execute_input": "2021-04-29T21:20:31.391263Z",
     "iopub.status.busy": "2021-04-29T21:20:31.386386Z",
     "iopub.status.idle": "2021-04-29T22:40:49.074421Z",
     "shell.execute_reply": "2021-04-29T22:40:48.981636Z"
    },
    "papermill": {
     "duration": 4817.748032,
     "end_time": "2021-04-29T22:40:49.074689",
     "exception": false,
     "start_time": "2021-04-29T21:20:31.326657",
     "status": "completed"
    },
    "tags": []
   },
   "outputs": [
    {
     "name": "stderr",
     "output_type": "stream",
     "text": [
      "  2%|▏         | 1429/62874 [01:45<1:11:49, 14.26it/s]/opt/conda/lib/python3.7/site-packages/ipykernel_launcher.py:2: RuntimeWarning: invalid value encountered in true_divide\n",
      "  \n",
      "/opt/conda/lib/python3.7/site-packages/ipykernel_launcher.py:18: UserWarning: train_images/bkmtou1/XC518213_0.png is a low contrast image\n",
      " 10%|▉         | 6117/62874 [07:36<1:12:15, 13.09it/s]/opt/conda/lib/python3.7/site-packages/ipykernel_launcher.py:18: UserWarning: train_images/cogdov/XC579430_0.png is a low contrast image\n",
      " 19%|█▉        | 11872/62874 [14:43<1:03:18, 13.43it/s]/opt/conda/lib/python3.7/site-packages/ipykernel_launcher.py:18: UserWarning: train_images/houwre/XC590621_0.png is a low contrast image\n",
      " 61%|██████    | 38152/62874 [48:35<30:21, 13.57it/s]/opt/conda/lib/python3.7/site-packages/ipykernel_launcher.py:18: UserWarning: train_images/whtspa/XC313231_0.png is a low contrast image\n",
      "100%|██████████| 62874/62874 [1:20:16<00:00, 13.05it/s]\n"
     ]
    }
   ],
   "source": [
    "for i in tqdm(range(len(train_audio_clips))):\n",
    "    extract_spectogram(train_audio_clips[i], folder_names[i], file_names[i])"
   ]
  },
  {
   "cell_type": "code",
   "execution_count": 19,
   "id": "concrete-external",
   "metadata": {
    "execution": {
     "iopub.execute_input": "2021-04-29T22:41:08.404390Z",
     "iopub.status.busy": "2021-04-29T22:41:08.403204Z",
     "iopub.status.idle": "2021-04-29T22:41:08.406012Z",
     "shell.execute_reply": "2021-04-29T22:41:08.405428Z"
    },
    "papermill": {
     "duration": 9.490027,
     "end_time": "2021-04-29T22:41:08.406166",
     "exception": false,
     "start_time": "2021-04-29T22:40:58.916139",
     "status": "completed"
    },
    "tags": []
   },
   "outputs": [],
   "source": [
    "def imagetensor(imagedir):  \n",
    "    for i, im in enumerate(os.listdir(imagedir)):\n",
    "\n",
    "        image= cv2.imread(os.path.join(imagedir, im), 0)\n",
    "        image.resize(32, 96)\n",
    "#         image = image.resize(48,144)\n",
    "#         print(image.shape)\n",
    "\n",
    "        if i == 0:\n",
    "            images= np.expand_dims(np.array(image, dtype= float) / 255, axis= 0)\n",
    "        else:\n",
    "            image= np.expand_dims(np.array(image, dtype= float) / 255, axis= 0)\n",
    "            images= np.append(images, image, axis= 0)\n",
    "    return images"
   ]
  },
  {
   "cell_type": "code",
   "execution_count": 20,
   "id": "absolute-dakota",
   "metadata": {
    "execution": {
     "iopub.execute_input": "2021-04-29T22:41:27.561370Z",
     "iopub.status.busy": "2021-04-29T22:41:27.560658Z",
     "iopub.status.idle": "2021-04-29T22:41:27.563850Z",
     "shell.execute_reply": "2021-04-29T22:41:27.564455Z"
    },
    "papermill": {
     "duration": 9.572344,
     "end_time": "2021-04-29T22:41:27.564650",
     "exception": false,
     "start_time": "2021-04-29T22:41:17.992306",
     "status": "completed"
    },
    "tags": []
   },
   "outputs": [],
   "source": [
    "labels = []\n",
    "for label in os.listdir('./train_images/'):\n",
    "    if (not '.ipynb' in label and \n",
    "        not 'h5'in label and \n",
    "        not '.npy' in label and \n",
    "        not '.txt' in label and \n",
    "        not 'out' in label):\n",
    "        labels.append(label)"
   ]
  },
  {
   "cell_type": "code",
   "execution_count": 21,
   "id": "planned-circulation",
   "metadata": {
    "execution": {
     "iopub.execute_input": "2021-04-29T22:41:46.715421Z",
     "iopub.status.busy": "2021-04-29T22:41:46.714783Z",
     "iopub.status.idle": "2021-04-29T22:41:46.717693Z",
     "shell.execute_reply": "2021-04-29T22:41:46.718273Z"
    },
    "papermill": {
     "duration": 9.576263,
     "end_time": "2021-04-29T22:41:46.718439",
     "exception": false,
     "start_time": "2021-04-29T22:41:37.142176",
     "status": "completed"
    },
    "tags": []
   },
   "outputs": [
    {
     "data": {
      "text/plain": [
       "397"
      ]
     },
     "execution_count": 21,
     "metadata": {},
     "output_type": "execute_result"
    }
   ],
   "source": [
    "len(labels)"
   ]
  },
  {
   "cell_type": "code",
   "execution_count": 22,
   "id": "swedish-metabolism",
   "metadata": {
    "execution": {
     "iopub.execute_input": "2021-04-29T22:42:06.040197Z",
     "iopub.status.busy": "2021-04-29T22:42:06.039369Z",
     "iopub.status.idle": "2021-04-29T22:46:27.423660Z",
     "shell.execute_reply": "2021-04-29T22:46:27.403719Z"
    },
    "papermill": {
     "duration": 271.023464,
     "end_time": "2021-04-29T22:46:27.423816",
     "exception": false,
     "start_time": "2021-04-29T22:41:56.400352",
     "status": "completed"
    },
    "tags": []
   },
   "outputs": [
    {
     "name": "stderr",
     "output_type": "stream",
     "text": [
      "  0%|          | 0/397 [00:00<?, ?it/s]\n",
      "0it [00:00, ?it/s]\u001b[A\n",
      "  0%|          | 1/397 [00:01<07:42,  1.17s/it]\n",
      "  1%|          | 2/397 [00:01<04:31,  1.46it/s]\n",
      "  1%|          | 3/397 [00:01<03:15,  2.01it/s]\n",
      "  1%|          | 4/397 [00:01<02:25,  2.70it/s]\n",
      "  1%|▏         | 5/397 [00:02<02:01,  3.23it/s]\n",
      "  2%|▏         | 6/397 [00:03<03:31,  1.85it/s]\n",
      "  2%|▏         | 7/397 [00:03<04:08,  1.57it/s]\n",
      "  2%|▏         | 8/397 [00:04<03:29,  1.85it/s]\n",
      "  2%|▏         | 9/397 [00:04<02:56,  2.20it/s]\n",
      "  3%|▎         | 10/397 [00:05<02:50,  2.27it/s]\n",
      "  3%|▎         | 11/397 [00:05<02:17,  2.81it/s]\n",
      "  3%|▎         | 12/397 [00:05<02:20,  2.75it/s]\n",
      "  3%|▎         | 13/397 [00:05<02:16,  2.81it/s]\n",
      "  4%|▎         | 14/397 [00:06<02:00,  3.17it/s]\n",
      "  4%|▍         | 15/397 [00:06<01:42,  3.72it/s]\n",
      "  4%|▍         | 16/397 [00:06<02:16,  2.80it/s]\n",
      "  4%|▍         | 17/397 [00:07<02:17,  2.76it/s]\n",
      "  5%|▍         | 18/397 [00:07<02:11,  2.87it/s]\n",
      "  5%|▍         | 19/397 [00:09<04:35,  1.37it/s]\n",
      "  5%|▌         | 20/397 [00:10<05:46,  1.09it/s]\n",
      "  5%|▌         | 21/397 [00:10<04:47,  1.31it/s]\n",
      "  6%|▌         | 22/397 [00:11<03:39,  1.71it/s]\n",
      "  6%|▌         | 24/397 [00:11<02:20,  2.66it/s]\n",
      "  6%|▋         | 25/397 [00:11<02:11,  2.82it/s]\n",
      "  7%|▋         | 26/397 [00:13<04:06,  1.51it/s]\n",
      "  7%|▋         | 27/397 [00:13<03:57,  1.56it/s]\n",
      "  7%|▋         | 28/397 [00:14<03:27,  1.78it/s]\n",
      "  8%|▊         | 30/397 [00:14<02:56,  2.08it/s]\n",
      "  8%|▊         | 31/397 [00:15<02:39,  2.30it/s]\n",
      "  8%|▊         | 32/397 [00:15<03:05,  1.96it/s]\n",
      "  8%|▊         | 33/397 [00:16<02:47,  2.17it/s]\n",
      "  9%|▊         | 34/397 [00:16<02:42,  2.23it/s]\n",
      "  9%|▉         | 35/397 [00:16<02:12,  2.73it/s]\n",
      "  9%|▉         | 37/397 [00:17<01:46,  3.39it/s]\n",
      " 10%|▉         | 38/397 [00:17<02:06,  2.84it/s]\n",
      " 10%|▉         | 39/397 [00:17<01:59,  3.00it/s]\n",
      " 10%|█         | 40/397 [00:18<01:50,  3.23it/s]\n",
      " 10%|█         | 41/397 [00:18<01:34,  3.78it/s]\n",
      " 11%|█         | 42/397 [00:18<02:00,  2.95it/s]\n",
      " 11%|█         | 43/397 [00:20<04:10,  1.41it/s]\n",
      " 11%|█         | 44/397 [00:20<03:32,  1.66it/s]\n",
      " 11%|█▏        | 45/397 [00:21<02:49,  2.08it/s]\n",
      " 12%|█▏        | 46/397 [00:21<02:36,  2.24it/s]\n",
      " 12%|█▏        | 47/397 [00:22<04:29,  1.30it/s]\n",
      " 12%|█▏        | 48/397 [00:23<03:27,  1.68it/s]\n",
      " 12%|█▏        | 49/397 [00:23<03:04,  1.89it/s]\n",
      " 13%|█▎        | 50/397 [00:24<03:39,  1.58it/s]\n",
      " 13%|█▎        | 51/397 [00:24<03:04,  1.88it/s]\n",
      " 13%|█▎        | 52/397 [00:24<02:37,  2.18it/s]\n",
      " 13%|█▎        | 53/397 [00:25<02:25,  2.36it/s]\n",
      " 14%|█▎        | 54/397 [00:25<01:59,  2.87it/s]\n",
      " 14%|█▍        | 55/397 [00:26<02:22,  2.40it/s]\n",
      " 14%|█▍        | 56/397 [00:26<02:13,  2.55it/s]\n",
      " 14%|█▍        | 57/397 [00:27<02:35,  2.18it/s]\n",
      " 15%|█▍        | 58/397 [00:27<02:30,  2.25it/s]\n",
      " 15%|█▍        | 59/397 [00:28<02:54,  1.94it/s]\n",
      " 15%|█▌        | 60/397 [00:28<02:46,  2.02it/s]\n",
      " 15%|█▌        | 61/397 [00:28<02:37,  2.13it/s]\n",
      " 16%|█▌        | 62/397 [00:29<02:09,  2.59it/s]\n",
      " 16%|█▌        | 63/397 [00:29<02:20,  2.38it/s]\n",
      " 16%|█▌        | 64/397 [00:29<02:07,  2.61it/s]\n",
      " 16%|█▋        | 65/397 [00:30<01:58,  2.79it/s]\n",
      " 17%|█▋        | 66/397 [00:30<01:44,  3.15it/s]\n",
      " 17%|█▋        | 67/397 [00:30<01:36,  3.42it/s]\n",
      " 17%|█▋        | 68/397 [00:31<01:46,  3.09it/s]\n",
      " 17%|█▋        | 69/397 [00:31<01:47,  3.04it/s]\n",
      " 18%|█▊        | 70/397 [00:31<01:35,  3.43it/s]\n",
      " 18%|█▊        | 71/397 [00:31<01:34,  3.46it/s]\n",
      " 18%|█▊        | 72/397 [00:32<01:59,  2.71it/s]\n",
      " 18%|█▊        | 73/397 [00:33<02:19,  2.32it/s]\n",
      " 19%|█▊        | 74/397 [00:33<02:27,  2.19it/s]\n",
      " 19%|█▉        | 75/397 [00:33<02:07,  2.52it/s]\n",
      " 19%|█▉        | 76/397 [00:34<02:17,  2.33it/s]\n",
      " 19%|█▉        | 77/397 [00:34<02:04,  2.57it/s]\n",
      " 20%|█▉        | 78/397 [00:35<02:14,  2.37it/s]\n",
      " 20%|█▉        | 79/397 [00:35<01:58,  2.68it/s]\n",
      " 20%|██        | 80/397 [00:35<01:54,  2.76it/s]\n",
      " 20%|██        | 81/397 [00:36<01:48,  2.92it/s]\n",
      " 21%|██        | 82/397 [00:36<01:40,  3.14it/s]\n",
      " 21%|██        | 83/397 [00:37<02:19,  2.25it/s]\n",
      " 21%|██        | 84/397 [00:37<02:31,  2.07it/s]\n",
      " 21%|██▏       | 85/397 [00:37<02:08,  2.43it/s]\n",
      " 22%|██▏       | 86/397 [00:38<01:56,  2.67it/s]\n",
      " 22%|██▏       | 87/397 [00:38<02:18,  2.24it/s]\n",
      " 22%|██▏       | 88/397 [00:39<02:05,  2.47it/s]\n",
      " 22%|██▏       | 89/397 [00:39<02:22,  2.15it/s]\n",
      " 23%|██▎       | 90/397 [00:40<02:45,  1.86it/s]\n",
      " 23%|██▎       | 91/397 [00:40<02:27,  2.08it/s]\n",
      " 23%|██▎       | 92/397 [00:41<02:18,  2.20it/s]\n",
      " 23%|██▎       | 93/397 [00:41<02:30,  2.01it/s]\n",
      " 24%|██▎       | 94/397 [00:42<02:24,  2.09it/s]\n",
      " 24%|██▍       | 95/397 [00:42<02:19,  2.16it/s]\n",
      " 24%|██▍       | 96/397 [00:42<02:09,  2.32it/s]\n",
      " 24%|██▍       | 97/397 [00:43<02:37,  1.90it/s]\n",
      " 25%|██▍       | 98/397 [00:44<02:18,  2.15it/s]\n",
      " 25%|██▍       | 99/397 [00:44<02:25,  2.05it/s]\n",
      " 25%|██▌       | 100/397 [00:44<02:13,  2.22it/s]\n",
      " 25%|██▌       | 101/397 [00:45<01:53,  2.60it/s]\n",
      " 26%|██▌       | 102/397 [00:45<01:58,  2.49it/s]\n",
      " 26%|██▌       | 103/397 [00:46<02:10,  2.25it/s]\n",
      " 26%|██▌       | 104/397 [00:46<02:04,  2.35it/s]\n",
      " 26%|██▋       | 105/397 [00:46<01:55,  2.52it/s]\n",
      " 27%|██▋       | 106/397 [00:47<01:47,  2.72it/s]\n",
      " 27%|██▋       | 107/397 [00:47<01:59,  2.43it/s]\n",
      " 27%|██▋       | 108/397 [00:48<01:54,  2.53it/s]\n",
      " 27%|██▋       | 109/397 [00:48<02:04,  2.31it/s]\n",
      " 28%|██▊       | 110/397 [00:49<02:08,  2.23it/s]\n",
      " 28%|██▊       | 111/397 [00:49<01:55,  2.48it/s]\n",
      " 28%|██▊       | 112/397 [00:49<01:48,  2.63it/s]\n",
      " 28%|██▊       | 113/397 [00:50<01:55,  2.46it/s]\n",
      " 29%|██▊       | 114/397 [00:50<01:47,  2.63it/s]\n",
      " 29%|██▉       | 115/397 [00:50<01:59,  2.35it/s]\n",
      " 29%|██▉       | 116/397 [00:51<01:50,  2.55it/s]\n",
      " 29%|██▉       | 117/397 [00:51<02:02,  2.28it/s]\n",
      " 30%|██▉       | 118/397 [00:52<02:40,  1.74it/s]\n",
      " 30%|██▉       | 119/397 [00:53<02:19,  2.00it/s]\n",
      " 30%|███       | 120/397 [00:53<02:13,  2.07it/s]\n",
      " 30%|███       | 121/397 [00:54<02:35,  1.78it/s]\n",
      " 31%|███       | 122/397 [00:54<02:36,  1.76it/s]\n",
      " 31%|███       | 123/397 [00:55<02:27,  1.86it/s]\n",
      " 31%|███       | 124/397 [00:55<02:10,  2.10it/s]\n",
      " 31%|███▏      | 125/397 [00:55<01:58,  2.30it/s]\n",
      " 32%|███▏      | 126/397 [00:56<02:09,  2.10it/s]\n",
      " 32%|███▏      | 127/397 [00:56<02:03,  2.19it/s]\n",
      " 32%|███▏      | 128/397 [00:57<02:28,  1.81it/s]\n",
      " 32%|███▏      | 129/397 [00:58<02:09,  2.07it/s]\n",
      " 33%|███▎      | 130/397 [00:59<03:11,  1.39it/s]\n",
      " 33%|███▎      | 131/397 [00:59<02:41,  1.64it/s]\n",
      " 33%|███▎      | 132/397 [01:00<02:34,  1.72it/s]\n",
      " 34%|███▎      | 133/397 [01:01<02:57,  1.48it/s]\n",
      " 34%|███▍      | 134/397 [01:01<03:18,  1.33it/s]\n",
      " 34%|███▍      | 135/397 [01:02<02:53,  1.51it/s]\n",
      " 34%|███▍      | 136/397 [01:02<02:25,  1.80it/s]\n",
      " 35%|███▍      | 137/397 [01:03<02:44,  1.58it/s]\n",
      " 35%|███▍      | 138/397 [01:03<02:17,  1.88it/s]\n",
      " 35%|███▌      | 139/397 [01:04<02:05,  2.06it/s]\n",
      " 35%|███▌      | 140/397 [01:04<01:52,  2.27it/s]\n",
      " 36%|███▌      | 141/397 [01:05<01:58,  2.17it/s]\n",
      " 36%|███▌      | 142/397 [01:05<01:53,  2.25it/s]\n",
      " 36%|███▌      | 143/397 [01:06<02:11,  1.93it/s]\n",
      " 36%|███▋      | 144/397 [01:06<02:23,  1.76it/s]\n",
      " 37%|███▋      | 145/397 [01:07<02:03,  2.04it/s]\n",
      " 37%|███▋      | 146/397 [01:07<02:13,  1.88it/s]\n",
      " 37%|███▋      | 147/397 [01:08<01:52,  2.22it/s]\n",
      " 37%|███▋      | 148/397 [01:08<01:45,  2.36it/s]\n",
      " 38%|███▊      | 149/397 [01:09<02:02,  2.02it/s]\n",
      " 38%|███▊      | 150/397 [01:09<02:17,  1.79it/s]\n",
      " 38%|███▊      | 151/397 [01:10<02:38,  1.55it/s]\n",
      " 38%|███▊      | 152/397 [01:11<02:22,  1.72it/s]\n",
      " 39%|███▊      | 153/397 [01:11<02:28,  1.65it/s]\n",
      " 39%|███▉      | 154/397 [01:12<02:08,  1.89it/s]\n",
      " 39%|███▉      | 155/397 [01:13<02:40,  1.50it/s]\n",
      " 39%|███▉      | 156/397 [01:13<02:42,  1.48it/s]\n",
      " 40%|███▉      | 157/397 [01:14<02:37,  1.52it/s]\n",
      " 40%|███▉      | 158/397 [01:14<02:22,  1.68it/s]\n",
      " 40%|████      | 159/397 [01:15<02:52,  1.38it/s]\n",
      " 40%|████      | 160/397 [01:16<02:25,  1.63it/s]\n",
      " 41%|████      | 161/397 [01:17<02:39,  1.48it/s]\n",
      " 41%|████      | 162/397 [01:17<02:44,  1.43it/s]\n",
      " 41%|████      | 163/397 [01:18<02:31,  1.54it/s]\n",
      " 41%|████▏     | 164/397 [01:18<02:15,  1.72it/s]\n",
      " 42%|████▏     | 165/397 [01:19<02:09,  1.80it/s]\n",
      " 42%|████▏     | 166/397 [01:19<01:50,  2.09it/s]\n",
      " 42%|████▏     | 167/397 [01:20<02:07,  1.81it/s]\n",
      " 42%|████▏     | 168/397 [01:21<02:25,  1.57it/s]\n",
      " 43%|████▎     | 169/397 [01:21<02:17,  1.66it/s]\n",
      " 43%|████▎     | 170/397 [01:22<02:09,  1.76it/s]\n",
      " 43%|████▎     | 171/397 [01:23<02:35,  1.45it/s]\n",
      " 43%|████▎     | 172/397 [01:23<02:27,  1.53it/s]\n",
      " 44%|████▎     | 173/397 [01:24<02:09,  1.72it/s]\n",
      " 44%|████▍     | 174/397 [01:24<02:06,  1.76it/s]\n",
      " 44%|████▍     | 175/397 [01:25<02:26,  1.51it/s]\n",
      " 44%|████▍     | 176/397 [01:25<02:13,  1.65it/s]\n",
      " 45%|████▍     | 177/397 [01:26<02:19,  1.58it/s]\n",
      " 45%|████▍     | 178/397 [01:27<02:05,  1.74it/s]\n",
      " 45%|████▌     | 179/397 [01:27<01:49,  1.99it/s]\n",
      " 45%|████▌     | 180/397 [01:27<01:49,  1.98it/s]\n",
      " 46%|████▌     | 181/397 [01:28<01:43,  2.08it/s]\n",
      " 46%|████▌     | 182/397 [01:28<01:37,  2.20it/s]\n",
      " 46%|████▌     | 183/397 [01:29<01:44,  2.04it/s]\n",
      " 46%|████▋     | 184/397 [01:29<01:54,  1.86it/s]\n",
      " 47%|████▋     | 185/397 [01:30<01:45,  2.02it/s]\n",
      " 47%|████▋     | 186/397 [01:30<01:47,  1.96it/s]\n",
      " 47%|████▋     | 187/397 [01:31<01:58,  1.78it/s]\n",
      " 47%|████▋     | 188/397 [01:32<01:48,  1.93it/s]\n",
      " 48%|████▊     | 189/397 [01:32<01:46,  1.96it/s]\n",
      " 48%|████▊     | 190/397 [01:33<01:50,  1.87it/s]\n",
      " 48%|████▊     | 191/397 [01:33<01:50,  1.86it/s]\n",
      " 48%|████▊     | 192/397 [01:34<02:04,  1.64it/s]\n",
      " 49%|████▊     | 193/397 [01:34<01:55,  1.77it/s]\n",
      " 49%|████▉     | 194/397 [01:35<01:45,  1.93it/s]\n",
      " 49%|████▉     | 195/397 [01:35<01:41,  2.00it/s]\n",
      " 49%|████▉     | 196/397 [01:36<01:42,  1.95it/s]\n",
      " 50%|████▉     | 197/397 [01:36<01:40,  1.99it/s]\n",
      " 50%|████▉     | 198/397 [01:37<02:06,  1.58it/s]\n",
      " 50%|█████     | 199/397 [01:38<02:13,  1.49it/s]\n",
      " 50%|█████     | 200/397 [01:38<01:53,  1.74it/s]\n",
      " 51%|█████     | 201/397 [01:40<02:37,  1.24it/s]\n",
      " 51%|█████     | 202/397 [01:41<03:29,  1.08s/it]\n",
      " 51%|█████     | 203/397 [01:42<03:08,  1.03it/s]\n",
      " 51%|█████▏    | 204/397 [01:43<03:13,  1.00s/it]\n",
      " 52%|█████▏    | 205/397 [01:45<03:54,  1.22s/it]\n",
      " 52%|█████▏    | 206/397 [01:45<03:15,  1.02s/it]\n",
      " 52%|█████▏    | 207/397 [01:46<02:45,  1.15it/s]\n",
      " 52%|█████▏    | 208/397 [01:47<02:28,  1.27it/s]\n",
      " 53%|█████▎    | 209/397 [01:47<02:09,  1.45it/s]\n",
      " 53%|█████▎    | 210/397 [01:48<02:04,  1.50it/s]\n",
      " 53%|█████▎    | 211/397 [01:48<01:55,  1.62it/s]\n",
      " 53%|█████▎    | 212/397 [01:49<02:06,  1.46it/s]\n",
      " 54%|█████▎    | 213/397 [01:50<02:00,  1.53it/s]\n",
      " 54%|█████▍    | 214/397 [01:51<02:22,  1.28it/s]\n",
      " 54%|█████▍    | 215/397 [01:52<02:38,  1.15it/s]\n",
      " 54%|█████▍    | 216/397 [01:53<03:02,  1.01s/it]\n",
      " 55%|█████▍    | 217/397 [01:54<02:48,  1.07it/s]\n",
      " 55%|█████▍    | 218/397 [01:54<02:25,  1.23it/s]\n",
      " 55%|█████▌    | 219/397 [01:55<02:04,  1.43it/s]\n",
      " 55%|█████▌    | 220/397 [01:55<01:58,  1.49it/s]\n",
      " 56%|█████▌    | 221/397 [01:56<01:45,  1.67it/s]\n",
      " 56%|█████▌    | 222/397 [01:57<01:51,  1.57it/s]\n",
      " 56%|█████▌    | 223/397 [01:57<01:51,  1.56it/s]\n",
      " 56%|█████▋    | 224/397 [01:58<01:46,  1.62it/s]\n",
      " 57%|█████▋    | 225/397 [01:58<01:40,  1.72it/s]\n",
      " 57%|█████▋    | 226/397 [01:59<01:43,  1.65it/s]\n",
      " 57%|█████▋    | 227/397 [02:00<01:44,  1.62it/s]\n",
      " 57%|█████▋    | 228/397 [02:00<01:51,  1.51it/s]\n",
      " 58%|█████▊    | 229/397 [02:01<01:48,  1.55it/s]\n",
      " 58%|█████▊    | 230/397 [02:02<01:45,  1.59it/s]\n",
      " 58%|█████▊    | 231/397 [02:02<01:42,  1.63it/s]\n",
      " 58%|█████▊    | 232/397 [02:03<01:40,  1.64it/s]\n",
      " 59%|█████▊    | 233/397 [02:03<01:32,  1.77it/s]\n",
      " 59%|█████▉    | 234/397 [02:04<01:30,  1.80it/s]\n",
      " 59%|█████▉    | 235/397 [02:04<01:37,  1.65it/s]\n",
      " 59%|█████▉    | 236/397 [02:06<02:02,  1.32it/s]\n",
      " 60%|█████▉    | 237/397 [02:06<01:58,  1.35it/s]\n",
      " 60%|█████▉    | 238/397 [02:07<01:49,  1.45it/s]\n",
      " 60%|██████    | 239/397 [02:08<01:58,  1.34it/s]\n",
      " 60%|██████    | 240/397 [02:08<01:49,  1.43it/s]\n",
      " 61%|██████    | 241/397 [02:09<01:53,  1.37it/s]\n",
      " 61%|██████    | 242/397 [02:10<01:45,  1.47it/s]\n",
      " 61%|██████    | 243/397 [02:10<01:40,  1.53it/s]\n",
      " 61%|██████▏   | 244/397 [02:11<01:39,  1.54it/s]\n",
      " 62%|██████▏   | 245/397 [02:11<01:36,  1.57it/s]\n",
      " 62%|██████▏   | 246/397 [02:12<01:48,  1.39it/s]\n",
      " 62%|██████▏   | 247/397 [02:14<02:20,  1.07it/s]\n",
      " 62%|██████▏   | 248/397 [02:14<02:01,  1.23it/s]\n",
      " 63%|██████▎   | 249/397 [02:15<01:46,  1.38it/s]\n",
      " 63%|██████▎   | 250/397 [02:15<01:38,  1.49it/s]\n",
      " 63%|██████▎   | 251/397 [02:17<02:20,  1.04it/s]\n",
      " 63%|██████▎   | 252/397 [02:18<02:03,  1.17it/s]\n",
      " 64%|██████▎   | 253/397 [02:18<01:53,  1.27it/s]\n",
      " 64%|██████▍   | 254/397 [02:19<01:39,  1.44it/s]\n",
      " 64%|██████▍   | 255/397 [02:20<01:44,  1.35it/s]\n",
      " 64%|██████▍   | 256/397 [02:20<01:34,  1.50it/s]\n",
      " 65%|██████▍   | 257/397 [02:21<01:26,  1.62it/s]\n",
      " 65%|██████▍   | 258/397 [02:22<01:42,  1.35it/s]\n",
      " 65%|██████▌   | 259/397 [02:22<01:35,  1.45it/s]\n",
      " 65%|██████▌   | 260/397 [02:23<01:32,  1.49it/s]\n",
      " 66%|██████▌   | 261/397 [02:23<01:23,  1.62it/s]\n",
      " 66%|██████▌   | 262/397 [02:24<01:20,  1.68it/s]\n",
      " 66%|██████▌   | 263/397 [02:25<01:22,  1.62it/s]\n",
      " 66%|██████▋   | 264/397 [02:25<01:32,  1.44it/s]\n",
      " 67%|██████▋   | 265/397 [02:26<01:29,  1.48it/s]\n",
      " 67%|██████▋   | 266/397 [02:27<01:25,  1.52it/s]\n",
      " 67%|██████▋   | 267/397 [02:27<01:25,  1.52it/s]\n",
      " 68%|██████▊   | 268/397 [02:28<01:38,  1.31it/s]\n",
      " 68%|██████▊   | 269/397 [02:29<01:44,  1.23it/s]\n",
      " 68%|██████▊   | 270/397 [02:30<01:57,  1.08it/s]\n",
      " 68%|██████▊   | 271/397 [02:31<01:44,  1.20it/s]\n",
      " 69%|██████▊   | 272/397 [02:32<01:35,  1.31it/s]\n",
      " 69%|██████▉   | 273/397 [02:32<01:30,  1.37it/s]\n",
      " 69%|██████▉   | 274/397 [02:33<01:24,  1.45it/s]\n",
      " 69%|██████▉   | 275/397 [02:34<01:30,  1.35it/s]\n",
      " 70%|██████▉   | 276/397 [02:34<01:25,  1.41it/s]\n",
      " 70%|██████▉   | 277/397 [02:35<01:27,  1.37it/s]\n",
      " 70%|███████   | 278/397 [02:36<01:20,  1.47it/s]\n",
      " 70%|███████   | 279/397 [02:36<01:19,  1.49it/s]\n",
      " 71%|███████   | 280/397 [02:37<01:12,  1.60it/s]\n",
      " 71%|███████   | 281/397 [02:38<01:23,  1.39it/s]\n",
      " 71%|███████   | 282/397 [02:39<01:25,  1.34it/s]\n",
      " 71%|███████▏  | 283/397 [02:39<01:25,  1.33it/s]\n",
      " 72%|███████▏  | 284/397 [02:40<01:17,  1.46it/s]\n",
      " 72%|███████▏  | 285/397 [02:41<01:16,  1.46it/s]\n",
      " 72%|███████▏  | 286/397 [02:41<01:12,  1.52it/s]\n",
      " 72%|███████▏  | 287/397 [02:42<01:27,  1.26it/s]\n",
      " 73%|███████▎  | 288/397 [02:43<01:15,  1.44it/s]\n",
      " 73%|███████▎  | 289/397 [02:44<01:16,  1.41it/s]\n",
      " 73%|███████▎  | 290/397 [02:44<01:12,  1.48it/s]\n",
      " 73%|███████▎  | 291/397 [02:45<01:08,  1.54it/s]\n",
      " 74%|███████▎  | 292/397 [02:46<01:29,  1.17it/s]\n",
      " 74%|███████▍  | 293/397 [02:47<01:27,  1.19it/s]\n",
      " 74%|███████▍  | 294/397 [02:48<01:20,  1.28it/s]\n",
      " 74%|███████▍  | 295/397 [02:48<01:16,  1.34it/s]\n",
      " 75%|███████▍  | 296/397 [02:49<01:11,  1.42it/s]\n",
      " 75%|███████▍  | 297/397 [02:50<01:26,  1.16it/s]\n",
      " 75%|███████▌  | 298/397 [02:51<01:18,  1.26it/s]\n",
      " 75%|███████▌  | 299/397 [02:51<01:14,  1.32it/s]\n",
      " 76%|███████▌  | 300/397 [02:52<01:22,  1.18it/s]\n",
      " 76%|███████▌  | 301/397 [02:53<01:14,  1.29it/s]\n",
      " 76%|███████▌  | 302/397 [02:54<01:13,  1.29it/s]\n",
      " 76%|███████▋  | 303/397 [02:54<01:10,  1.33it/s]\n",
      " 77%|███████▋  | 304/397 [02:55<01:04,  1.43it/s]\n",
      " 77%|███████▋  | 305/397 [02:56<01:01,  1.51it/s]\n",
      " 77%|███████▋  | 306/397 [02:56<00:55,  1.64it/s]\n",
      " 77%|███████▋  | 307/397 [02:57<00:59,  1.52it/s]\n",
      " 78%|███████▊  | 308/397 [02:57<00:56,  1.58it/s]\n",
      " 78%|███████▊  | 309/397 [02:58<00:58,  1.51it/s]\n",
      " 78%|███████▊  | 310/397 [02:59<00:57,  1.51it/s]\n",
      " 78%|███████▊  | 311/397 [03:00<01:06,  1.29it/s]\n",
      " 79%|███████▊  | 312/397 [03:01<01:04,  1.32it/s]\n",
      " 79%|███████▉  | 313/397 [03:01<01:02,  1.35it/s]\n",
      " 79%|███████▉  | 314/397 [03:02<01:00,  1.36it/s]\n",
      " 79%|███████▉  | 315/397 [03:03<00:58,  1.41it/s]\n",
      " 80%|███████▉  | 316/397 [03:03<01:00,  1.35it/s]\n",
      " 80%|███████▉  | 317/397 [03:04<00:56,  1.43it/s]\n",
      " 80%|████████  | 318/397 [03:05<00:57,  1.37it/s]\n",
      " 80%|████████  | 319/397 [03:06<01:01,  1.27it/s]\n",
      " 81%|████████  | 320/397 [03:07<01:02,  1.22it/s]\n",
      " 81%|████████  | 321/397 [03:08<01:03,  1.19it/s]\n",
      " 81%|████████  | 322/397 [03:08<00:57,  1.31it/s]\n",
      " 81%|████████▏ | 323/397 [03:09<00:57,  1.29it/s]\n",
      " 82%|████████▏ | 324/397 [03:11<01:20,  1.10s/it]\n",
      " 82%|████████▏ | 325/397 [03:12<01:10,  1.02it/s]\n",
      " 82%|████████▏ | 326/397 [03:12<01:05,  1.08it/s]\n",
      " 82%|████████▏ | 327/397 [03:13<01:08,  1.03it/s]\n",
      " 83%|████████▎ | 328/397 [03:14<01:09,  1.00s/it]\n",
      " 83%|████████▎ | 329/397 [03:15<00:58,  1.16it/s]\n",
      " 83%|████████▎ | 330/397 [03:16<00:56,  1.18it/s]\n",
      " 83%|████████▎ | 331/397 [03:17<01:09,  1.06s/it]\n",
      " 84%|████████▎ | 332/397 [03:18<01:02,  1.04it/s]\n",
      " 84%|████████▍ | 333/397 [03:19<00:56,  1.14it/s]\n",
      " 84%|████████▍ | 334/397 [03:20<00:52,  1.20it/s]\n",
      " 84%|████████▍ | 335/397 [03:20<00:53,  1.15it/s]\n",
      " 85%|████████▍ | 336/397 [03:21<00:50,  1.20it/s]\n",
      " 85%|████████▍ | 337/397 [03:22<00:46,  1.28it/s]\n",
      " 85%|████████▌ | 338/397 [03:23<00:43,  1.34it/s]\n",
      " 85%|████████▌ | 339/397 [03:23<00:42,  1.37it/s]\n",
      " 86%|████████▌ | 340/397 [03:24<00:46,  1.22it/s]\n",
      " 86%|████████▌ | 341/397 [03:25<00:44,  1.25it/s]\n",
      " 86%|████████▌ | 342/397 [03:26<00:44,  1.22it/s]\n",
      " 86%|████████▋ | 343/397 [03:27<00:43,  1.25it/s]\n",
      " 87%|████████▋ | 344/397 [03:28<00:55,  1.05s/it]\n",
      " 87%|████████▋ | 345/397 [03:29<00:48,  1.06it/s]\n",
      " 87%|████████▋ | 346/397 [03:30<00:46,  1.10it/s]\n",
      " 87%|████████▋ | 347/397 [03:31<00:52,  1.05s/it]\n",
      " 88%|████████▊ | 348/397 [03:32<00:45,  1.08it/s]\n",
      " 88%|████████▊ | 349/397 [03:33<00:42,  1.13it/s]\n",
      " 88%|████████▊ | 350/397 [03:34<00:42,  1.11it/s]\n",
      " 88%|████████▊ | 351/397 [03:34<00:39,  1.15it/s]\n",
      " 89%|████████▊ | 352/397 [03:35<00:39,  1.15it/s]\n",
      " 89%|████████▉ | 353/397 [03:36<00:34,  1.27it/s]\n",
      " 89%|████████▉ | 354/397 [03:37<00:33,  1.30it/s]\n",
      " 89%|████████▉ | 355/397 [03:37<00:32,  1.28it/s]\n",
      " 90%|████████▉ | 356/397 [03:38<00:32,  1.25it/s]\n",
      " 90%|████████▉ | 357/397 [03:40<00:44,  1.12s/it]\n",
      " 90%|█████████ | 358/397 [03:41<00:39,  1.00s/it]\n",
      " 90%|█████████ | 359/397 [03:42<00:36,  1.05it/s]\n",
      " 91%|█████████ | 360/397 [03:43<00:35,  1.04it/s]\n",
      " 91%|█████████ | 361/397 [03:43<00:31,  1.15it/s]\n",
      " 91%|█████████ | 362/397 [03:44<00:30,  1.13it/s]\n",
      " 91%|█████████▏| 363/397 [03:45<00:29,  1.14it/s]\n",
      " 92%|█████████▏| 364/397 [03:46<00:30,  1.09it/s]\n",
      " 92%|█████████▏| 365/397 [03:47<00:29,  1.07it/s]\n",
      " 92%|█████████▏| 366/397 [03:48<00:26,  1.16it/s]\n",
      " 92%|█████████▏| 367/397 [03:50<00:36,  1.21s/it]\n",
      " 93%|█████████▎| 368/397 [03:51<00:31,  1.08s/it]\n",
      " 93%|█████████▎| 369/397 [03:51<00:27,  1.01it/s]\n",
      " 93%|█████████▎| 370/397 [03:52<00:25,  1.05it/s]\n",
      " 93%|█████████▎| 371/397 [03:53<00:22,  1.13it/s]\n",
      " 94%|█████████▎| 372/397 [03:54<00:21,  1.15it/s]\n",
      " 94%|█████████▍| 373/397 [03:54<00:19,  1.21it/s]\n",
      " 94%|█████████▍| 374/397 [03:55<00:19,  1.19it/s]\n",
      " 94%|█████████▍| 375/397 [03:56<00:18,  1.19it/s]\n",
      " 95%|█████████▍| 376/397 [03:57<00:16,  1.24it/s]\n",
      " 95%|█████████▍| 377/397 [03:58<00:16,  1.22it/s]\n",
      " 95%|█████████▌| 378/397 [03:59<00:15,  1.22it/s]\n",
      " 95%|█████████▌| 379/397 [03:59<00:15,  1.20it/s]\n",
      " 96%|█████████▌| 380/397 [04:00<00:14,  1.16it/s]\n",
      " 96%|█████████▌| 381/397 [04:01<00:12,  1.24it/s]\n",
      " 96%|█████████▌| 382/397 [04:02<00:12,  1.21it/s]\n",
      " 96%|█████████▋| 383/397 [04:03<00:11,  1.26it/s]\n",
      " 97%|█████████▋| 384/397 [04:03<00:10,  1.22it/s]\n",
      " 97%|█████████▋| 385/397 [04:04<00:09,  1.29it/s]\n",
      " 97%|█████████▋| 386/397 [04:05<00:08,  1.27it/s]\n",
      " 97%|█████████▋| 387/397 [04:06<00:08,  1.19it/s]\n",
      " 98%|█████████▊| 388/397 [04:07<00:07,  1.23it/s]\n",
      " 98%|█████████▊| 389/397 [04:08<00:06,  1.23it/s]\n",
      " 98%|█████████▊| 390/397 [04:08<00:05,  1.28it/s]\n",
      " 98%|█████████▊| 391/397 [04:09<00:04,  1.30it/s]\n",
      " 99%|█████████▊| 392/397 [04:10<00:03,  1.33it/s]\n",
      " 99%|█████████▉| 393/397 [04:11<00:03,  1.15it/s]\n",
      " 99%|█████████▉| 394/397 [04:13<00:03,  1.13s/it]\n",
      " 99%|█████████▉| 395/397 [04:14<00:02,  1.37s/it]\n",
      "100%|█████████▉| 396/397 [04:15<00:01,  1.17s/it]\n",
      "100%|██████████| 397/397 [04:16<00:00,  1.55it/s]\n",
      "397it [04:16,  1.55it/s]\n"
     ]
    }
   ],
   "source": [
    "x_train = np.array([])\n",
    "y_train = []\n",
    "for idx, label in tqdm(enumerate(tqdm(labels))):\n",
    "    if idx == 0:\n",
    "        x_train= imagetensor('./train_images/' + label)\n",
    "        y_train.extend([label] * len(x_train))\n",
    "    else:\n",
    "        images = imagetensor('./train_images/' + label)\n",
    "        y_train.extend([label] * len(images))\n",
    "        x_train = np.vstack((x_train, images))"
   ]
  },
  {
   "cell_type": "code",
   "execution_count": 23,
   "id": "german-sample",
   "metadata": {
    "execution": {
     "iopub.execute_input": "2021-04-29T22:46:47.521302Z",
     "iopub.status.busy": "2021-04-29T22:46:47.520646Z",
     "iopub.status.idle": "2021-04-29T22:46:47.524371Z",
     "shell.execute_reply": "2021-04-29T22:46:47.523716Z"
    },
    "papermill": {
     "duration": 10.11904,
     "end_time": "2021-04-29T22:46:47.524507",
     "exception": false,
     "start_time": "2021-04-29T22:46:37.405467",
     "status": "completed"
    },
    "tags": []
   },
   "outputs": [
    {
     "name": "stdout",
     "output_type": "stream",
     "text": [
      "61440 61440\n"
     ]
    }
   ],
   "source": [
    "print(len(x_train), len(y_train))"
   ]
  },
  {
   "cell_type": "code",
   "execution_count": 24,
   "id": "abroad-arizona",
   "metadata": {
    "execution": {
     "iopub.execute_input": "2021-04-29T22:47:07.565597Z",
     "iopub.status.busy": "2021-04-29T22:47:07.558122Z",
     "iopub.status.idle": "2021-04-29T22:47:07.607097Z",
     "shell.execute_reply": "2021-04-29T22:47:07.607793Z"
    },
    "papermill": {
     "duration": 10.089011,
     "end_time": "2021-04-29T22:47:07.607968",
     "exception": false,
     "start_time": "2021-04-29T22:46:57.518957",
     "status": "completed"
    },
    "tags": []
   },
   "outputs": [],
   "source": [
    "inputs = x_train.reshape((61440, 32, 96, 1))\n",
    "outputs = pd.get_dummies(pd.Series(y_train)).to_numpy()"
   ]
  },
  {
   "cell_type": "code",
   "execution_count": 25,
   "id": "roman-cookbook",
   "metadata": {
    "execution": {
     "iopub.execute_input": "2021-04-29T22:47:27.528504Z",
     "iopub.status.busy": "2021-04-29T22:47:27.527445Z",
     "iopub.status.idle": "2021-04-29T22:47:27.531319Z",
     "shell.execute_reply": "2021-04-29T22:47:27.530763Z"
    },
    "papermill": {
     "duration": 9.954969,
     "end_time": "2021-04-29T22:47:27.531463",
     "exception": false,
     "start_time": "2021-04-29T22:47:17.576494",
     "status": "completed"
    },
    "tags": []
   },
   "outputs": [
    {
     "name": "stdout",
     "output_type": "stream",
     "text": [
      "(61440, 32, 96, 1)\n",
      "(61440, 397)\n"
     ]
    }
   ],
   "source": [
    "print(inputs.shape)\n",
    "print(outputs.shape)"
   ]
  },
  {
   "cell_type": "code",
   "execution_count": 26,
   "id": "suitable-repair",
   "metadata": {
    "execution": {
     "iopub.execute_input": "2021-04-29T22:47:57.883298Z",
     "iopub.status.busy": "2021-04-29T22:47:57.882667Z",
     "iopub.status.idle": "2021-04-29T22:48:48.167465Z",
     "shell.execute_reply": "2021-04-29T22:48:48.166891Z"
    },
    "papermill": {
     "duration": 70.384395,
     "end_time": "2021-04-29T22:48:48.167628",
     "exception": false,
     "start_time": "2021-04-29T22:47:37.783233",
     "status": "completed"
    },
    "tags": []
   },
   "outputs": [],
   "source": [
    "np.savez_compressed('batch_reduced_32_96', x=inputs, y=outputs)"
   ]
  },
  {
   "cell_type": "code",
   "execution_count": 27,
   "id": "bearing-favorite",
   "metadata": {
    "execution": {
     "iopub.execute_input": "2021-04-29T22:49:08.425438Z",
     "iopub.status.busy": "2021-04-29T22:49:08.424815Z",
     "iopub.status.idle": "2021-04-29T22:49:08.430288Z",
     "shell.execute_reply": "2021-04-29T22:49:08.429736Z"
    },
    "papermill": {
     "duration": 10.097346,
     "end_time": "2021-04-29T22:49:08.430428",
     "exception": false,
     "start_time": "2021-04-29T22:48:58.333082",
     "status": "completed"
    },
    "tags": []
   },
   "outputs": [
    {
     "name": "stdout",
     "output_type": "stream",
     "text": [
      "203294606\n"
     ]
    }
   ],
   "source": [
    "b = os.path.getsize(\"batch_reduced_32_96.npz\")\n",
    "print(b)"
   ]
  },
  {
   "cell_type": "code",
   "execution_count": 28,
   "id": "median-secret",
   "metadata": {
    "execution": {
     "iopub.execute_input": "2021-04-29T22:49:28.475632Z",
     "iopub.status.busy": "2021-04-29T22:49:28.474937Z",
     "iopub.status.idle": "2021-04-29T22:49:28.480977Z",
     "shell.execute_reply": "2021-04-29T22:49:28.481506Z"
    },
    "papermill": {
     "duration": 10.055425,
     "end_time": "2021-04-29T22:49:28.481677",
     "exception": false,
     "start_time": "2021-04-29T22:49:18.426252",
     "status": "completed"
    },
    "tags": []
   },
   "outputs": [],
   "source": [
    "batch_1 = np.load('batch_reduced_32_96.npz')"
   ]
  },
  {
   "cell_type": "code",
   "execution_count": 29,
   "id": "quantitative-cuisine",
   "metadata": {
    "execution": {
     "iopub.execute_input": "2021-04-29T22:49:48.633963Z",
     "iopub.status.busy": "2021-04-29T22:49:48.633305Z",
     "iopub.status.idle": "2021-04-29T22:49:55.051729Z",
     "shell.execute_reply": "2021-04-29T22:49:55.052218Z"
    },
    "papermill": {
     "duration": 16.599816,
     "end_time": "2021-04-29T22:49:55.052410",
     "exception": false,
     "start_time": "2021-04-29T22:49:38.452594",
     "status": "completed"
    },
    "tags": []
   },
   "outputs": [],
   "source": [
    "inputs = batch_1['x']\n",
    "outputs = batch_1['y']"
   ]
  },
  {
   "cell_type": "code",
   "execution_count": 30,
   "id": "consolidated-playlist",
   "metadata": {
    "execution": {
     "iopub.execute_input": "2021-04-29T22:50:15.259399Z",
     "iopub.status.busy": "2021-04-29T22:50:15.258758Z",
     "iopub.status.idle": "2021-04-29T22:50:15.260490Z",
     "shell.execute_reply": "2021-04-29T22:50:15.260961Z"
    },
    "papermill": {
     "duration": 9.996227,
     "end_time": "2021-04-29T22:50:15.261179",
     "exception": false,
     "start_time": "2021-04-29T22:50:05.264952",
     "status": "completed"
    },
    "tags": []
   },
   "outputs": [],
   "source": [
    "# x_train, x_val, y_train, y_val = sk.train_test_split(inputs, outputs, test_size=0.2, random_state = 42)"
   ]
  },
  {
   "cell_type": "code",
   "execution_count": 31,
   "id": "nutritional-butterfly",
   "metadata": {
    "execution": {
     "iopub.execute_input": "2021-04-29T22:50:36.130769Z",
     "iopub.status.busy": "2021-04-29T22:50:36.130039Z",
     "iopub.status.idle": "2021-04-29T22:50:36.133755Z",
     "shell.execute_reply": "2021-04-29T22:50:36.134307Z"
    },
    "papermill": {
     "duration": 10.037568,
     "end_time": "2021-04-29T22:50:36.134489",
     "exception": false,
     "start_time": "2021-04-29T22:50:26.096921",
     "status": "completed"
    },
    "tags": []
   },
   "outputs": [],
   "source": [
    "# print(x_train.shape, y_train.shape, x_val.shape, y_val.shape)"
   ]
  },
  {
   "cell_type": "code",
   "execution_count": 32,
   "id": "found-blackjack",
   "metadata": {
    "execution": {
     "iopub.execute_input": "2021-04-29T22:50:56.327186Z",
     "iopub.status.busy": "2021-04-29T22:50:56.326180Z",
     "iopub.status.idle": "2021-04-29T22:50:56.328514Z",
     "shell.execute_reply": "2021-04-29T22:50:56.329006Z"
    },
    "papermill": {
     "duration": 10.162455,
     "end_time": "2021-04-29T22:50:56.329265",
     "exception": false,
     "start_time": "2021-04-29T22:50:46.166810",
     "status": "completed"
    },
    "tags": []
   },
   "outputs": [],
   "source": [
    "SPEC_SHAPE = inputs[0].shape\n",
    "OUTPUT_SHAPE = outputs[0].shape\n",
    "SEED = 8000"
   ]
  },
  {
   "cell_type": "code",
   "execution_count": 33,
   "id": "light-power",
   "metadata": {
    "execution": {
     "iopub.execute_input": "2021-04-29T22:51:16.524473Z",
     "iopub.status.busy": "2021-04-29T22:51:16.523782Z",
     "iopub.status.idle": "2021-04-29T22:51:19.268060Z",
     "shell.execute_reply": "2021-04-29T22:51:19.267537Z"
    },
    "papermill": {
     "duration": 12.828059,
     "end_time": "2021-04-29T22:51:19.268229",
     "exception": false,
     "start_time": "2021-04-29T22:51:06.440170",
     "status": "completed"
    },
    "tags": []
   },
   "outputs": [],
   "source": [
    "from sklearn.utils import shuffle\n",
    "inputs, outputs = shuffle(inputs, outputs)"
   ]
  },
  {
   "cell_type": "code",
   "execution_count": 34,
   "id": "organic-bouquet",
   "metadata": {
    "execution": {
     "iopub.execute_input": "2021-04-29T22:51:39.221040Z",
     "iopub.status.busy": "2021-04-29T22:51:39.220349Z",
     "iopub.status.idle": "2021-04-29T22:51:39.573197Z",
     "shell.execute_reply": "2021-04-29T22:51:39.573633Z"
    },
    "papermill": {
     "duration": 10.384622,
     "end_time": "2021-04-29T22:51:39.573845",
     "exception": false,
     "start_time": "2021-04-29T22:51:29.189223",
     "status": "completed"
    },
    "tags": []
   },
   "outputs": [
    {
     "name": "stdout",
     "output_type": "stream",
     "text": [
      "MODEL HAS 99789 PARAMETERS.\n"
     ]
    }
   ],
   "source": [
    "# Make sure your experiments are reproducible\n",
    "tf.random.set_seed(SEED)\n",
    "\n",
    "# Build a simple model as a sequence of  convolutional blocks.\n",
    "# Each block has the sequence CONV --> RELU --> BNORM --> MAXPOOL.\n",
    "# Finally, perform global average pooling and add 2 dense layers.\n",
    "# The last layer is our classification layer and is softmax activated.\n",
    "# (Well it's a multi-label task so sigmoid might actually be a better choice)\n",
    "model = tf.keras.Sequential([\n",
    "    \n",
    "    # First conv block\n",
    "    tf.keras.layers.Conv2D(16, (3, 3), \n",
    "                           activation='relu', \n",
    "                           input_shape=(SPEC_SHAPE[0], SPEC_SHAPE[1], 1)),\n",
    "    tf.keras.layers.BatchNormalization(),\n",
    "    tf.keras.layers.MaxPooling2D((2, 2)),\n",
    "    \n",
    "    # Second conv block\n",
    "    tf.keras.layers.Conv2D(32, (3, 3), activation='relu'),\n",
    "    tf.keras.layers.BatchNormalization(),\n",
    "    tf.keras.layers.MaxPooling2D((2, 2)), \n",
    "    \n",
    "    # Third conv block\n",
    "    tf.keras.layers.Conv2D(64, (3, 3), activation='relu'),\n",
    "    tf.keras.layers.BatchNormalization(),\n",
    "    tf.keras.layers.MaxPooling2D((2, 2)), \n",
    "    \n",
    "#     # Fourth conv block\n",
    "#     tf.keras.layers.Conv2D(64, (3, 3), activation='relu'),\n",
    "#     tf.keras.layers.BatchNormalization(),\n",
    "#     tf.keras.layers.MaxPooling2D((2, 2)),\n",
    "    \n",
    "    # Global pooling instead of flatten()\n",
    "    tf.keras.layers.GlobalAveragePooling2D(), \n",
    "    \n",
    "    # Dense block\n",
    "    tf.keras.layers.Dense(128, activation='relu'),   \n",
    "    tf.keras.layers.Dropout(0.5),  \n",
    "    tf.keras.layers.Dense(128, activation='relu'),   \n",
    "    tf.keras.layers.Dropout(0.5),\n",
    "    \n",
    "    # Classification layer\n",
    "    tf.keras.layers.Dense(OUTPUT_SHAPE[0], activation='softmax')\n",
    "])\n",
    "print('MODEL HAS {} PARAMETERS.'.format(model.count_params()))"
   ]
  },
  {
   "cell_type": "code",
   "execution_count": 35,
   "id": "unsigned-equipment",
   "metadata": {
    "execution": {
     "iopub.execute_input": "2021-04-29T22:51:59.659787Z",
     "iopub.status.busy": "2021-04-29T22:51:59.659189Z",
     "iopub.status.idle": "2021-04-29T22:51:59.689079Z",
     "shell.execute_reply": "2021-04-29T22:51:59.689611Z"
    },
    "papermill": {
     "duration": 10.068447,
     "end_time": "2021-04-29T22:51:59.689782",
     "exception": false,
     "start_time": "2021-04-29T22:51:49.621335",
     "status": "completed"
    },
    "tags": []
   },
   "outputs": [],
   "source": [
    "# Compile the model and specify optimizer, loss and metric\n",
    "initial_learning_rate = 0.1\n",
    "decay_steps = 1.0\n",
    "decay_rate = 0.5\n",
    "learning_rate_fn = tf.keras.optimizers.schedules.InverseTimeDecay(\n",
    "  initial_learning_rate, decay_steps, decay_rate\n",
    ")\n",
    "model.compile(\n",
    "    optimizer=tf.keras.optimizers.Adam(learning_rate=0.0015),\n",
    "    loss=tf.keras.losses.CategoricalCrossentropy(),\n",
    "    metrics=['accuracy', tf.keras.metrics.AUC()]\n",
    ")"
   ]
  },
  {
   "cell_type": "code",
   "execution_count": 36,
   "id": "signal-postcard",
   "metadata": {
    "execution": {
     "iopub.execute_input": "2021-04-29T22:52:20.084186Z",
     "iopub.status.busy": "2021-04-29T22:52:20.083125Z",
     "iopub.status.idle": "2021-04-29T22:52:20.102867Z",
     "shell.execute_reply": "2021-04-29T22:52:20.102149Z"
    },
    "papermill": {
     "duration": 10.046211,
     "end_time": "2021-04-29T22:52:20.103048",
     "exception": false,
     "start_time": "2021-04-29T22:52:10.056837",
     "status": "completed"
    },
    "tags": []
   },
   "outputs": [
    {
     "name": "stdout",
     "output_type": "stream",
     "text": [
      "Model: \"sequential\"\n",
      "_________________________________________________________________\n",
      "Layer (type)                 Output Shape              Param #   \n",
      "=================================================================\n",
      "conv2d (Conv2D)              (None, 30, 94, 16)        160       \n",
      "_________________________________________________________________\n",
      "batch_normalization (BatchNo (None, 30, 94, 16)        64        \n",
      "_________________________________________________________________\n",
      "max_pooling2d (MaxPooling2D) (None, 15, 47, 16)        0         \n",
      "_________________________________________________________________\n",
      "conv2d_1 (Conv2D)            (None, 13, 45, 32)        4640      \n",
      "_________________________________________________________________\n",
      "batch_normalization_1 (Batch (None, 13, 45, 32)        128       \n",
      "_________________________________________________________________\n",
      "max_pooling2d_1 (MaxPooling2 (None, 6, 22, 32)         0         \n",
      "_________________________________________________________________\n",
      "conv2d_2 (Conv2D)            (None, 4, 20, 64)         18496     \n",
      "_________________________________________________________________\n",
      "batch_normalization_2 (Batch (None, 4, 20, 64)         256       \n",
      "_________________________________________________________________\n",
      "max_pooling2d_2 (MaxPooling2 (None, 2, 10, 64)         0         \n",
      "_________________________________________________________________\n",
      "global_average_pooling2d (Gl (None, 64)                0         \n",
      "_________________________________________________________________\n",
      "dense (Dense)                (None, 128)               8320      \n",
      "_________________________________________________________________\n",
      "dropout (Dropout)            (None, 128)               0         \n",
      "_________________________________________________________________\n",
      "dense_1 (Dense)              (None, 128)               16512     \n",
      "_________________________________________________________________\n",
      "dropout_1 (Dropout)          (None, 128)               0         \n",
      "_________________________________________________________________\n",
      "dense_2 (Dense)              (None, 397)               51213     \n",
      "=================================================================\n",
      "Total params: 99,789\n",
      "Trainable params: 99,565\n",
      "Non-trainable params: 224\n",
      "_________________________________________________________________\n"
     ]
    }
   ],
   "source": [
    "model.summary()"
   ]
  },
  {
   "cell_type": "code",
   "execution_count": 37,
   "id": "civil-binary",
   "metadata": {
    "execution": {
     "iopub.execute_input": "2021-04-29T22:52:40.159634Z",
     "iopub.status.busy": "2021-04-29T22:52:40.158973Z",
     "iopub.status.idle": "2021-04-29T22:52:40.164913Z",
     "shell.execute_reply": "2021-04-29T22:52:40.165458Z"
    },
    "papermill": {
     "duration": 10.061682,
     "end_time": "2021-04-29T22:52:40.165624",
     "exception": false,
     "start_time": "2021-04-29T22:52:30.103942",
     "status": "completed"
    },
    "tags": []
   },
   "outputs": [],
   "source": [
    "early_stopping_monitor = EarlyStopping(\n",
    "    monitor='val_accuracy',\n",
    "    patience=30,\n",
    "    verbose=1,\n",
    "    mode='auto',\n",
    "    restore_best_weights=True\n",
    ")\n",
    "\n",
    "mcp_save = ModelCheckpoint(\n",
    "    './best_model.h5', \n",
    "    save_best_only=True, \n",
    "    monitor='val_accuracy',\n",
    "    verbose=1\n",
    ")"
   ]
  },
  {
   "cell_type": "code",
   "execution_count": 38,
   "id": "headed-shanghai",
   "metadata": {
    "execution": {
     "iopub.execute_input": "2021-04-29T22:53:00.001746Z",
     "iopub.status.busy": "2021-04-29T22:53:00.001125Z",
     "iopub.status.idle": "2021-04-30T02:22:26.696913Z",
     "shell.execute_reply": "2021-04-30T02:22:26.696422Z"
    },
    "papermill": {
     "duration": 12576.636282,
     "end_time": "2021-04-30T02:22:26.697064",
     "exception": false,
     "start_time": "2021-04-29T22:52:50.060782",
     "status": "completed"
    },
    "tags": []
   },
   "outputs": [
    {
     "name": "stdout",
     "output_type": "stream",
     "text": [
      "Epoch 1/100\n",
      "192/192 [==============================] - 125s 637ms/step - loss: 5.9204 - accuracy: 0.0064 - auc: 0.5282 - val_loss: 5.8023 - val_accuracy: 0.0076 - val_auc: 0.5551\n",
      "\n",
      "Epoch 00001: val_accuracy improved from -inf to 0.00765, saving model to ./best_model.h5\n",
      "Epoch 2/100\n",
      "192/192 [==============================] - 124s 648ms/step - loss: 5.7878 - accuracy: 0.0106 - auc: 0.5704 - val_loss: 5.7928 - val_accuracy: 0.0098 - val_auc: 0.5606\n",
      "\n",
      "Epoch 00002: val_accuracy improved from 0.00765 to 0.00977, saving model to ./best_model.h5\n",
      "Epoch 3/100\n",
      "192/192 [==============================] - 143s 748ms/step - loss: 5.7424 - accuracy: 0.0124 - auc: 0.5815 - val_loss: 5.7512 - val_accuracy: 0.0100 - val_auc: 0.5720\n",
      "\n",
      "Epoch 00003: val_accuracy improved from 0.00977 to 0.01001, saving model to ./best_model.h5\n",
      "Epoch 4/100\n",
      "192/192 [==============================] - 128s 667ms/step - loss: 5.7134 - accuracy: 0.0145 - auc: 0.5884 - val_loss: 5.8186 - val_accuracy: 0.0092 - val_auc: 0.5662\n",
      "\n",
      "Epoch 00004: val_accuracy did not improve from 0.01001\n",
      "Epoch 5/100\n",
      "192/192 [==============================] - 127s 664ms/step - loss: 5.6957 - accuracy: 0.0173 - auc: 0.5943 - val_loss: 5.7400 - val_accuracy: 0.0111 - val_auc: 0.5778\n",
      "\n",
      "Epoch 00005: val_accuracy improved from 0.01001 to 0.01115, saving model to ./best_model.h5\n",
      "Epoch 6/100\n",
      "192/192 [==============================] - 127s 660ms/step - loss: 5.6718 - accuracy: 0.0178 - auc: 0.6015 - val_loss: 5.7033 - val_accuracy: 0.0134 - val_auc: 0.5880\n",
      "\n",
      "Epoch 00006: val_accuracy improved from 0.01115 to 0.01343, saving model to ./best_model.h5\n",
      "Epoch 7/100\n",
      "192/192 [==============================] - 126s 655ms/step - loss: 5.6558 - accuracy: 0.0183 - auc: 0.6052 - val_loss: 5.7292 - val_accuracy: 0.0118 - val_auc: 0.5779\n",
      "\n",
      "Epoch 00007: val_accuracy did not improve from 0.01343\n",
      "Epoch 8/100\n",
      "192/192 [==============================] - 138s 718ms/step - loss: 5.6396 - accuracy: 0.0190 - auc: 0.6106 - val_loss: 5.6773 - val_accuracy: 0.0155 - val_auc: 0.6061\n",
      "\n",
      "Epoch 00008: val_accuracy improved from 0.01343 to 0.01554, saving model to ./best_model.h5\n",
      "Epoch 9/100\n",
      "192/192 [==============================] - 126s 655ms/step - loss: 5.6282 - accuracy: 0.0202 - auc: 0.6130 - val_loss: 5.7022 - val_accuracy: 0.0187 - val_auc: 0.6079\n",
      "\n",
      "Epoch 00009: val_accuracy improved from 0.01554 to 0.01872, saving model to ./best_model.h5\n",
      "Epoch 10/100\n",
      "192/192 [==============================] - 126s 656ms/step - loss: 5.6091 - accuracy: 0.0212 - auc: 0.6205 - val_loss: 5.6676 - val_accuracy: 0.0168 - val_auc: 0.6042\n",
      "\n",
      "Epoch 00010: val_accuracy did not improve from 0.01872\n",
      "Epoch 11/100\n",
      "192/192 [==============================] - 126s 658ms/step - loss: 5.5902 - accuracy: 0.0218 - auc: 0.6256 - val_loss: 5.7414 - val_accuracy: 0.0117 - val_auc: 0.5841\n",
      "\n",
      "Epoch 00011: val_accuracy did not improve from 0.01872\n",
      "Epoch 12/100\n",
      "192/192 [==============================] - 135s 703ms/step - loss: 5.5742 - accuracy: 0.0230 - auc: 0.6277 - val_loss: 5.6666 - val_accuracy: 0.0181 - val_auc: 0.6071\n",
      "\n",
      "Epoch 00012: val_accuracy did not improve from 0.01872\n",
      "Epoch 13/100\n",
      "192/192 [==============================] - 136s 704ms/step - loss: 5.5681 - accuracy: 0.0237 - auc: 0.6308 - val_loss: 5.6443 - val_accuracy: 0.0201 - val_auc: 0.6106\n",
      "\n",
      "Epoch 00013: val_accuracy improved from 0.01872 to 0.02010, saving model to ./best_model.h5\n",
      "Epoch 14/100\n",
      "192/192 [==============================] - 123s 640ms/step - loss: 5.5500 - accuracy: 0.0242 - auc: 0.6338 - val_loss: 5.5748 - val_accuracy: 0.0237 - val_auc: 0.6296\n",
      "\n",
      "Epoch 00014: val_accuracy improved from 0.02010 to 0.02368, saving model to ./best_model.h5\n",
      "Epoch 15/100\n",
      "192/192 [==============================] - 127s 659ms/step - loss: 5.5378 - accuracy: 0.0238 - auc: 0.6375 - val_loss: 5.6113 - val_accuracy: 0.0215 - val_auc: 0.6207\n",
      "\n",
      "Epoch 00015: val_accuracy did not improve from 0.02368\n",
      "Epoch 16/100\n",
      "192/192 [==============================] - 127s 664ms/step - loss: 5.5245 - accuracy: 0.0257 - auc: 0.6399 - val_loss: 5.7353 - val_accuracy: 0.0133 - val_auc: 0.5894\n",
      "\n",
      "Epoch 00016: val_accuracy did not improve from 0.02368\n",
      "Epoch 17/100\n",
      "192/192 [==============================] - 147s 764ms/step - loss: 5.5140 - accuracy: 0.0250 - auc: 0.6432 - val_loss: 5.5728 - val_accuracy: 0.0251 - val_auc: 0.6299\n",
      "\n",
      "Epoch 00017: val_accuracy improved from 0.02368 to 0.02507, saving model to ./best_model.h5\n",
      "Epoch 18/100\n",
      "192/192 [==============================] - 128s 667ms/step - loss: 5.5047 - accuracy: 0.0267 - auc: 0.6463 - val_loss: 5.5443 - val_accuracy: 0.0269 - val_auc: 0.6403\n",
      "\n",
      "Epoch 00018: val_accuracy improved from 0.02507 to 0.02694, saving model to ./best_model.h5\n",
      "Epoch 19/100\n",
      "192/192 [==============================] - 127s 664ms/step - loss: 5.4984 - accuracy: 0.0263 - auc: 0.6467 - val_loss: 5.6806 - val_accuracy: 0.0178 - val_auc: 0.6030\n",
      "\n",
      "Epoch 00019: val_accuracy did not improve from 0.02694\n",
      "Epoch 20/100\n",
      "192/192 [==============================] - 127s 664ms/step - loss: 5.4899 - accuracy: 0.0269 - auc: 0.6481 - val_loss: 5.5848 - val_accuracy: 0.0229 - val_auc: 0.6168\n",
      "\n",
      "Epoch 00020: val_accuracy did not improve from 0.02694\n",
      "Epoch 21/100\n",
      "192/192 [==============================] - 126s 658ms/step - loss: 5.4758 - accuracy: 0.0287 - auc: 0.6521 - val_loss: 5.5839 - val_accuracy: 0.0228 - val_auc: 0.6236\n",
      "\n",
      "Epoch 00021: val_accuracy did not improve from 0.02694\n",
      "Epoch 22/100\n",
      "192/192 [==============================] - 141s 733ms/step - loss: 5.4566 - accuracy: 0.0277 - auc: 0.6567 - val_loss: 5.5276 - val_accuracy: 0.0276 - val_auc: 0.6415\n",
      "\n",
      "Epoch 00022: val_accuracy improved from 0.02694 to 0.02759, saving model to ./best_model.h5\n",
      "Epoch 23/100\n",
      "192/192 [==============================] - 123s 643ms/step - loss: 5.4523 - accuracy: 0.0289 - auc: 0.6577 - val_loss: 5.6754 - val_accuracy: 0.0212 - val_auc: 0.5978\n",
      "\n",
      "Epoch 00023: val_accuracy did not improve from 0.02759\n",
      "Epoch 24/100\n",
      "192/192 [==============================] - 126s 655ms/step - loss: 5.4512 - accuracy: 0.0313 - auc: 0.6578 - val_loss: 5.7034 - val_accuracy: 0.0234 - val_auc: 0.6255\n",
      "\n",
      "Epoch 00024: val_accuracy did not improve from 0.02759\n",
      "Epoch 25/100\n",
      "192/192 [==============================] - 122s 636ms/step - loss: 5.4323 - accuracy: 0.0307 - auc: 0.6604 - val_loss: 5.6328 - val_accuracy: 0.0238 - val_auc: 0.6223\n",
      "\n",
      "Epoch 00025: val_accuracy did not improve from 0.02759\n",
      "Epoch 26/100\n",
      "192/192 [==============================] - 127s 663ms/step - loss: 5.4264 - accuracy: 0.0308 - auc: 0.6640 - val_loss: 5.6205 - val_accuracy: 0.0264 - val_auc: 0.6231\n",
      "\n",
      "Epoch 00026: val_accuracy did not improve from 0.02759\n",
      "Epoch 27/100\n",
      "192/192 [==============================] - 121s 633ms/step - loss: 5.4239 - accuracy: 0.0336 - auc: 0.6605 - val_loss: 5.5102 - val_accuracy: 0.0312 - val_auc: 0.6512\n",
      "\n",
      "Epoch 00027: val_accuracy improved from 0.02759 to 0.03125, saving model to ./best_model.h5\n",
      "Epoch 28/100\n",
      "192/192 [==============================] - 126s 657ms/step - loss: 5.4179 - accuracy: 0.0325 - auc: 0.6641 - val_loss: 5.4759 - val_accuracy: 0.0314 - val_auc: 0.6491\n",
      "\n",
      "Epoch 00028: val_accuracy improved from 0.03125 to 0.03141, saving model to ./best_model.h5\n",
      "Epoch 29/100\n",
      "192/192 [==============================] - 123s 642ms/step - loss: 5.4061 - accuracy: 0.0339 - auc: 0.6672 - val_loss: 5.5382 - val_accuracy: 0.0295 - val_auc: 0.6478\n",
      "\n",
      "Epoch 00029: val_accuracy did not improve from 0.03141\n",
      "Epoch 30/100\n",
      "192/192 [==============================] - 123s 643ms/step - loss: 5.3924 - accuracy: 0.0319 - auc: 0.6700 - val_loss: 5.6104 - val_accuracy: 0.0222 - val_auc: 0.6168\n",
      "\n",
      "Epoch 00030: val_accuracy did not improve from 0.03141\n",
      "Epoch 31/100\n",
      "192/192 [==============================] - 128s 667ms/step - loss: 5.3939 - accuracy: 0.0355 - auc: 0.6698 - val_loss: 5.5596 - val_accuracy: 0.0267 - val_auc: 0.6369\n",
      "\n",
      "Epoch 00031: val_accuracy did not improve from 0.03141\n",
      "Epoch 32/100\n",
      "192/192 [==============================] - 122s 638ms/step - loss: 5.3872 - accuracy: 0.0327 - auc: 0.6697 - val_loss: 5.5274 - val_accuracy: 0.0299 - val_auc: 0.6476\n",
      "\n",
      "Epoch 00032: val_accuracy did not improve from 0.03141\n",
      "Epoch 33/100\n",
      "192/192 [==============================] - 127s 660ms/step - loss: 5.3778 - accuracy: 0.0339 - auc: 0.6721 - val_loss: 5.5974 - val_accuracy: 0.0267 - val_auc: 0.6276\n",
      "\n",
      "Epoch 00033: val_accuracy did not improve from 0.03141\n",
      "Epoch 34/100\n",
      "192/192 [==============================] - 123s 641ms/step - loss: 5.3908 - accuracy: 0.0336 - auc: 0.6683 - val_loss: 5.5626 - val_accuracy: 0.0296 - val_auc: 0.6316\n",
      "\n",
      "Epoch 00034: val_accuracy did not improve from 0.03141\n",
      "Epoch 35/100\n",
      "192/192 [==============================] - 127s 662ms/step - loss: 5.3695 - accuracy: 0.0335 - auc: 0.6731 - val_loss: 5.5441 - val_accuracy: 0.0293 - val_auc: 0.6354\n",
      "\n",
      "Epoch 00035: val_accuracy did not improve from 0.03141\n",
      "Epoch 36/100\n",
      "192/192 [==============================] - 122s 635ms/step - loss: 5.3689 - accuracy: 0.0362 - auc: 0.6748 - val_loss: 5.5377 - val_accuracy: 0.0304 - val_auc: 0.6357\n",
      "\n",
      "Epoch 00036: val_accuracy did not improve from 0.03141\n",
      "Epoch 37/100\n",
      "192/192 [==============================] - 127s 660ms/step - loss: 5.3626 - accuracy: 0.0363 - auc: 0.6742 - val_loss: 5.5161 - val_accuracy: 0.0303 - val_auc: 0.6471\n",
      "\n",
      "Epoch 00037: val_accuracy did not improve from 0.03141\n",
      "Epoch 38/100\n",
      "192/192 [==============================] - 122s 634ms/step - loss: 5.3543 - accuracy: 0.0322 - auc: 0.6766 - val_loss: 5.5370 - val_accuracy: 0.0282 - val_auc: 0.6407\n",
      "\n",
      "Epoch 00038: val_accuracy did not improve from 0.03141\n",
      "Epoch 39/100\n",
      "192/192 [==============================] - 127s 662ms/step - loss: 5.3602 - accuracy: 0.0359 - auc: 0.6742 - val_loss: 5.5366 - val_accuracy: 0.0297 - val_auc: 0.6355\n",
      "\n",
      "Epoch 00039: val_accuracy did not improve from 0.03141\n",
      "Epoch 40/100\n",
      "192/192 [==============================] - 122s 638ms/step - loss: 5.3333 - accuracy: 0.0373 - auc: 0.6825 - val_loss: 5.5221 - val_accuracy: 0.0304 - val_auc: 0.6421\n",
      "\n",
      "Epoch 00040: val_accuracy did not improve from 0.03141\n",
      "Epoch 41/100\n",
      "192/192 [==============================] - 127s 663ms/step - loss: 5.3389 - accuracy: 0.0364 - auc: 0.6777 - val_loss: 5.5603 - val_accuracy: 0.0266 - val_auc: 0.6393\n",
      "\n",
      "Epoch 00041: val_accuracy did not improve from 0.03141\n",
      "Epoch 42/100\n",
      "192/192 [==============================] - 122s 637ms/step - loss: 5.3412 - accuracy: 0.0372 - auc: 0.6791 - val_loss: 5.6066 - val_accuracy: 0.0225 - val_auc: 0.6258\n",
      "\n",
      "Epoch 00042: val_accuracy did not improve from 0.03141\n",
      "Epoch 43/100\n",
      "192/192 [==============================] - 127s 662ms/step - loss: 5.3394 - accuracy: 0.0390 - auc: 0.6783 - val_loss: 5.5225 - val_accuracy: 0.0302 - val_auc: 0.6411\n",
      "\n",
      "Epoch 00043: val_accuracy did not improve from 0.03141\n",
      "Epoch 44/100\n",
      "192/192 [==============================] - 121s 632ms/step - loss: 5.3285 - accuracy: 0.0371 - auc: 0.6818 - val_loss: 5.5201 - val_accuracy: 0.0324 - val_auc: 0.6460\n",
      "\n",
      "Epoch 00044: val_accuracy improved from 0.03141 to 0.03239, saving model to ./best_model.h5\n",
      "Epoch 45/100\n",
      "192/192 [==============================] - 128s 667ms/step - loss: 5.3301 - accuracy: 0.0388 - auc: 0.6812 - val_loss: 5.4651 - val_accuracy: 0.0346 - val_auc: 0.6546\n",
      "\n",
      "Epoch 00045: val_accuracy improved from 0.03239 to 0.03459, saving model to ./best_model.h5\n",
      "Epoch 46/100\n",
      "192/192 [==============================] - 122s 635ms/step - loss: 5.3191 - accuracy: 0.0373 - auc: 0.6837 - val_loss: 5.5426 - val_accuracy: 0.0309 - val_auc: 0.6408\n",
      "\n",
      "Epoch 00046: val_accuracy did not improve from 0.03459\n",
      "Epoch 47/100\n",
      "192/192 [==============================] - 123s 640ms/step - loss: 5.3183 - accuracy: 0.0350 - auc: 0.6832 - val_loss: 5.4995 - val_accuracy: 0.0329 - val_auc: 0.6483\n",
      "\n",
      "Epoch 00047: val_accuracy did not improve from 0.03459\n",
      "Epoch 48/100\n",
      "192/192 [==============================] - 127s 663ms/step - loss: 5.3058 - accuracy: 0.0382 - auc: 0.6851 - val_loss: 5.6314 - val_accuracy: 0.0247 - val_auc: 0.6183\n",
      "\n",
      "Epoch 00048: val_accuracy did not improve from 0.03459\n",
      "Epoch 49/100\n",
      "192/192 [==============================] - 122s 638ms/step - loss: 5.3027 - accuracy: 0.0393 - auc: 0.6870 - val_loss: 5.6478 - val_accuracy: 0.0225 - val_auc: 0.6089\n",
      "\n",
      "Epoch 00049: val_accuracy did not improve from 0.03459\n",
      "Epoch 50/100\n",
      "192/192 [==============================] - 129s 671ms/step - loss: 5.3119 - accuracy: 0.0388 - auc: 0.6863 - val_loss: 5.4430 - val_accuracy: 0.0364 - val_auc: 0.6578\n",
      "\n",
      "Epoch 00050: val_accuracy improved from 0.03459 to 0.03638, saving model to ./best_model.h5\n",
      "Epoch 51/100\n",
      "192/192 [==============================] - 123s 641ms/step - loss: 5.2991 - accuracy: 0.0388 - auc: 0.6862 - val_loss: 5.5213 - val_accuracy: 0.0313 - val_auc: 0.6344\n",
      "\n",
      "Epoch 00051: val_accuracy did not improve from 0.03638\n",
      "Epoch 52/100\n",
      "192/192 [==============================] - 128s 669ms/step - loss: 5.3111 - accuracy: 0.0370 - auc: 0.6846 - val_loss: 5.5382 - val_accuracy: 0.0298 - val_auc: 0.6414\n",
      "\n",
      "Epoch 00052: val_accuracy did not improve from 0.03638\n",
      "Epoch 53/100\n",
      "192/192 [==============================] - 122s 637ms/step - loss: 5.3025 - accuracy: 0.0387 - auc: 0.6849 - val_loss: 5.6970 - val_accuracy: 0.0209 - val_auc: 0.6086\n",
      "\n",
      "Epoch 00053: val_accuracy did not improve from 0.03638\n",
      "Epoch 54/100\n",
      "192/192 [==============================] - 127s 664ms/step - loss: 5.2941 - accuracy: 0.0401 - auc: 0.6887 - val_loss: 5.5186 - val_accuracy: 0.0321 - val_auc: 0.6491\n",
      "\n",
      "Epoch 00054: val_accuracy did not improve from 0.03638\n",
      "Epoch 55/100\n",
      "192/192 [==============================] - 121s 632ms/step - loss: 5.2930 - accuracy: 0.0392 - auc: 0.6873 - val_loss: 5.4296 - val_accuracy: 0.0387 - val_auc: 0.6667\n",
      "\n",
      "Epoch 00055: val_accuracy improved from 0.03638 to 0.03866, saving model to ./best_model.h5\n",
      "Epoch 56/100\n",
      "192/192 [==============================] - 127s 660ms/step - loss: 5.2795 - accuracy: 0.0407 - auc: 0.6916 - val_loss: 5.4703 - val_accuracy: 0.0348 - val_auc: 0.6513\n",
      "\n",
      "Epoch 00056: val_accuracy did not improve from 0.03866\n",
      "Epoch 57/100\n",
      "192/192 [==============================] - 122s 634ms/step - loss: 5.2822 - accuracy: 0.0398 - auc: 0.6891 - val_loss: 5.5207 - val_accuracy: 0.0314 - val_auc: 0.6516\n",
      "\n",
      "Epoch 00057: val_accuracy did not improve from 0.03866\n",
      "Epoch 58/100\n",
      "192/192 [==============================] - 128s 665ms/step - loss: 5.2924 - accuracy: 0.0388 - auc: 0.6869 - val_loss: 5.5648 - val_accuracy: 0.0273 - val_auc: 0.6316\n",
      "\n",
      "Epoch 00058: val_accuracy did not improve from 0.03866\n",
      "Epoch 59/100\n",
      "192/192 [==============================] - 121s 632ms/step - loss: 5.2769 - accuracy: 0.0410 - auc: 0.6905 - val_loss: 5.5565 - val_accuracy: 0.0285 - val_auc: 0.6330\n",
      "\n",
      "Epoch 00059: val_accuracy did not improve from 0.03866\n",
      "Epoch 60/100\n",
      "192/192 [==============================] - 128s 668ms/step - loss: 5.2724 - accuracy: 0.0391 - auc: 0.6919 - val_loss: 5.5574 - val_accuracy: 0.0294 - val_auc: 0.6353\n",
      "\n",
      "Epoch 00060: val_accuracy did not improve from 0.03866\n",
      "Epoch 61/100\n",
      "192/192 [==============================] - 121s 631ms/step - loss: 5.2726 - accuracy: 0.0414 - auc: 0.6911 - val_loss: 5.4588 - val_accuracy: 0.0357 - val_auc: 0.6585\n",
      "\n",
      "Epoch 00061: val_accuracy did not improve from 0.03866\n",
      "Epoch 62/100\n",
      "192/192 [==============================] - 126s 654ms/step - loss: 5.2682 - accuracy: 0.0404 - auc: 0.6913 - val_loss: 5.4455 - val_accuracy: 0.0382 - val_auc: 0.6655\n",
      "\n",
      "Epoch 00062: val_accuracy did not improve from 0.03866\n",
      "Epoch 63/100\n",
      "192/192 [==============================] - 122s 633ms/step - loss: 5.2674 - accuracy: 0.0394 - auc: 0.6927 - val_loss: 5.5117 - val_accuracy: 0.0319 - val_auc: 0.6486\n",
      "\n",
      "Epoch 00063: val_accuracy did not improve from 0.03866\n",
      "Epoch 64/100\n",
      "192/192 [==============================] - 122s 633ms/step - loss: 5.2576 - accuracy: 0.0423 - auc: 0.6941 - val_loss: 5.4320 - val_accuracy: 0.0379 - val_auc: 0.6642\n",
      "\n",
      "Epoch 00064: val_accuracy did not improve from 0.03866\n",
      "Epoch 65/100\n",
      "192/192 [==============================] - 127s 660ms/step - loss: 5.2728 - accuracy: 0.0418 - auc: 0.6924 - val_loss: 5.5988 - val_accuracy: 0.0282 - val_auc: 0.6302\n",
      "\n",
      "Epoch 00065: val_accuracy did not improve from 0.03866\n",
      "Epoch 66/100\n",
      "192/192 [==============================] - 122s 638ms/step - loss: 5.2669 - accuracy: 0.0414 - auc: 0.6942 - val_loss: 5.4244 - val_accuracy: 0.0380 - val_auc: 0.6630\n",
      "\n",
      "Epoch 00066: val_accuracy did not improve from 0.03866\n",
      "Epoch 67/100\n",
      "192/192 [==============================] - 128s 667ms/step - loss: 5.2436 - accuracy: 0.0437 - auc: 0.6974 - val_loss: 5.5040 - val_accuracy: 0.0314 - val_auc: 0.6484\n",
      "\n",
      "Epoch 00067: val_accuracy did not improve from 0.03866\n",
      "Epoch 68/100\n",
      "192/192 [==============================] - 122s 637ms/step - loss: 5.2494 - accuracy: 0.0438 - auc: 0.6948 - val_loss: 5.4660 - val_accuracy: 0.0337 - val_auc: 0.6637\n",
      "\n",
      "Epoch 00068: val_accuracy did not improve from 0.03866\n",
      "Epoch 69/100\n",
      "192/192 [==============================] - 129s 670ms/step - loss: 5.2571 - accuracy: 0.0420 - auc: 0.6950 - val_loss: 5.5120 - val_accuracy: 0.0338 - val_auc: 0.6420\n",
      "\n",
      "Epoch 00069: val_accuracy did not improve from 0.03866\n",
      "Epoch 70/100\n",
      "192/192 [==============================] - 123s 644ms/step - loss: 5.2368 - accuracy: 0.0420 - auc: 0.6980 - val_loss: 5.5496 - val_accuracy: 0.0300 - val_auc: 0.6366\n",
      "\n",
      "Epoch 00070: val_accuracy did not improve from 0.03866\n",
      "Epoch 71/100\n",
      "192/192 [==============================] - 128s 666ms/step - loss: 5.2551 - accuracy: 0.0426 - auc: 0.6944 - val_loss: 5.5517 - val_accuracy: 0.0309 - val_auc: 0.6379\n",
      "\n",
      "Epoch 00071: val_accuracy did not improve from 0.03866\n",
      "Epoch 72/100\n",
      "192/192 [==============================] - 122s 637ms/step - loss: 5.2382 - accuracy: 0.0433 - auc: 0.6974 - val_loss: 5.5282 - val_accuracy: 0.0353 - val_auc: 0.6574\n",
      "\n",
      "Epoch 00072: val_accuracy did not improve from 0.03866\n",
      "Epoch 73/100\n",
      "192/192 [==============================] - 127s 663ms/step - loss: 5.2467 - accuracy: 0.0429 - auc: 0.6947 - val_loss: 5.4660 - val_accuracy: 0.0365 - val_auc: 0.6581\n",
      "\n",
      "Epoch 00073: val_accuracy did not improve from 0.03866\n",
      "Epoch 74/100\n",
      "192/192 [==============================] - 121s 633ms/step - loss: 5.2361 - accuracy: 0.0447 - auc: 0.6989 - val_loss: 5.4358 - val_accuracy: 0.0377 - val_auc: 0.6668\n",
      "\n",
      "Epoch 00074: val_accuracy did not improve from 0.03866\n",
      "Epoch 75/100\n",
      "192/192 [==============================] - 127s 664ms/step - loss: 5.2452 - accuracy: 0.0425 - auc: 0.6970 - val_loss: 5.4726 - val_accuracy: 0.0378 - val_auc: 0.6536\n",
      "\n",
      "Epoch 00075: val_accuracy did not improve from 0.03866\n",
      "Epoch 76/100\n",
      "192/192 [==============================] - 122s 634ms/step - loss: 5.2281 - accuracy: 0.0433 - auc: 0.6999 - val_loss: 5.4209 - val_accuracy: 0.0396 - val_auc: 0.6674\n",
      "\n",
      "Epoch 00076: val_accuracy improved from 0.03866 to 0.03963, saving model to ./best_model.h5\n",
      "Epoch 77/100\n",
      "192/192 [==============================] - 127s 660ms/step - loss: 5.2397 - accuracy: 0.0425 - auc: 0.6983 - val_loss: 5.5673 - val_accuracy: 0.0290 - val_auc: 0.6349\n",
      "\n",
      "Epoch 00077: val_accuracy did not improve from 0.03963\n",
      "Epoch 78/100\n",
      "192/192 [==============================] - 122s 634ms/step - loss: 5.2376 - accuracy: 0.0423 - auc: 0.6997 - val_loss: 5.6013 - val_accuracy: 0.0246 - val_auc: 0.6307\n",
      "\n",
      "Epoch 00078: val_accuracy did not improve from 0.03963\n",
      "Epoch 79/100\n",
      "192/192 [==============================] - 122s 637ms/step - loss: 5.2239 - accuracy: 0.0435 - auc: 0.7005 - val_loss: 5.6340 - val_accuracy: 0.0270 - val_auc: 0.6310\n",
      "\n",
      "Epoch 00079: val_accuracy did not improve from 0.03963\n",
      "Epoch 80/100\n",
      "192/192 [==============================] - 127s 664ms/step - loss: 5.2290 - accuracy: 0.0431 - auc: 0.6990 - val_loss: 5.4935 - val_accuracy: 0.0330 - val_auc: 0.6513\n",
      "\n",
      "Epoch 00080: val_accuracy did not improve from 0.03963\n",
      "Epoch 81/100\n",
      "192/192 [==============================] - 122s 635ms/step - loss: 5.2351 - accuracy: 0.0449 - auc: 0.6978 - val_loss: 5.4735 - val_accuracy: 0.0384 - val_auc: 0.6584\n",
      "\n",
      "Epoch 00081: val_accuracy did not improve from 0.03963\n",
      "Epoch 82/100\n",
      "192/192 [==============================] - 128s 670ms/step - loss: 5.2285 - accuracy: 0.0437 - auc: 0.6998 - val_loss: 5.4361 - val_accuracy: 0.0378 - val_auc: 0.6669\n",
      "\n",
      "Epoch 00082: val_accuracy did not improve from 0.03963\n",
      "Epoch 83/100\n",
      "192/192 [==============================] - 122s 635ms/step - loss: 5.2260 - accuracy: 0.0444 - auc: 0.6985 - val_loss: 5.5697 - val_accuracy: 0.0284 - val_auc: 0.6317\n",
      "\n",
      "Epoch 00083: val_accuracy did not improve from 0.03963\n",
      "Epoch 84/100\n",
      "192/192 [==============================] - 128s 665ms/step - loss: 5.2222 - accuracy: 0.0439 - auc: 0.7000 - val_loss: 5.4612 - val_accuracy: 0.0382 - val_auc: 0.6569\n",
      "\n",
      "Epoch 00084: val_accuracy did not improve from 0.03963\n",
      "Epoch 85/100\n",
      "192/192 [==============================] - 121s 633ms/step - loss: 5.2216 - accuracy: 0.0443 - auc: 0.7006 - val_loss: 5.5279 - val_accuracy: 0.0321 - val_auc: 0.6391\n",
      "\n",
      "Epoch 00085: val_accuracy did not improve from 0.03963\n",
      "Epoch 86/100\n",
      "192/192 [==============================] - 128s 665ms/step - loss: 5.2223 - accuracy: 0.0417 - auc: 0.7004 - val_loss: 5.6254 - val_accuracy: 0.0275 - val_auc: 0.6183\n",
      "\n",
      "Epoch 00086: val_accuracy did not improve from 0.03963\n",
      "Epoch 87/100\n",
      "192/192 [==============================] - 121s 633ms/step - loss: 5.2181 - accuracy: 0.0435 - auc: 0.7025 - val_loss: 5.5610 - val_accuracy: 0.0320 - val_auc: 0.6425\n",
      "\n",
      "Epoch 00087: val_accuracy did not improve from 0.03963\n",
      "Epoch 88/100\n",
      "192/192 [==============================] - 129s 672ms/step - loss: 5.2268 - accuracy: 0.0438 - auc: 0.6997 - val_loss: 5.4758 - val_accuracy: 0.0353 - val_auc: 0.6603\n",
      "\n",
      "Epoch 00088: val_accuracy did not improve from 0.03963\n",
      "Epoch 89/100\n",
      "192/192 [==============================] - 121s 631ms/step - loss: 5.2081 - accuracy: 0.0443 - auc: 0.7041 - val_loss: 5.4912 - val_accuracy: 0.0347 - val_auc: 0.6521\n",
      "\n",
      "Epoch 00089: val_accuracy did not improve from 0.03963\n",
      "Epoch 90/100\n",
      "192/192 [==============================] - 128s 665ms/step - loss: 5.2009 - accuracy: 0.0459 - auc: 0.7030 - val_loss: 5.4006 - val_accuracy: 0.0416 - val_auc: 0.6722\n",
      "\n",
      "Epoch 00090: val_accuracy improved from 0.03963 to 0.04159, saving model to ./best_model.h5\n",
      "Epoch 91/100\n",
      "192/192 [==============================] - 121s 631ms/step - loss: 5.2032 - accuracy: 0.0450 - auc: 0.7036 - val_loss: 5.4798 - val_accuracy: 0.0344 - val_auc: 0.6585\n",
      "\n",
      "Epoch 00091: val_accuracy did not improve from 0.04159\n",
      "Epoch 92/100\n",
      "192/192 [==============================] - 121s 630ms/step - loss: 5.1916 - accuracy: 0.0470 - auc: 0.7055 - val_loss: 5.4722 - val_accuracy: 0.0343 - val_auc: 0.6536\n",
      "\n",
      "Epoch 00092: val_accuracy did not improve from 0.04159\n",
      "Epoch 93/100\n",
      "192/192 [==============================] - 127s 664ms/step - loss: 5.2046 - accuracy: 0.0460 - auc: 0.7031 - val_loss: 5.4060 - val_accuracy: 0.0416 - val_auc: 0.6723\n",
      "\n",
      "Epoch 00093: val_accuracy did not improve from 0.04159\n",
      "Epoch 94/100\n",
      "192/192 [==============================] - 121s 629ms/step - loss: 5.1994 - accuracy: 0.0465 - auc: 0.7043 - val_loss: 5.6254 - val_accuracy: 0.0273 - val_auc: 0.6273\n",
      "\n",
      "Epoch 00094: val_accuracy did not improve from 0.04159\n",
      "Epoch 95/100\n",
      "192/192 [==============================] - 129s 670ms/step - loss: 5.2037 - accuracy: 0.0451 - auc: 0.7056 - val_loss: 5.4355 - val_accuracy: 0.0415 - val_auc: 0.6608\n",
      "\n",
      "Epoch 00095: val_accuracy did not improve from 0.04159\n",
      "Epoch 96/100\n",
      "192/192 [==============================] - 120s 626ms/step - loss: 5.2004 - accuracy: 0.0431 - auc: 0.7052 - val_loss: 5.5569 - val_accuracy: 0.0288 - val_auc: 0.6341\n",
      "\n",
      "Epoch 00096: val_accuracy did not improve from 0.04159\n",
      "Epoch 97/100\n",
      "192/192 [==============================] - 127s 661ms/step - loss: 5.2048 - accuracy: 0.0447 - auc: 0.7043 - val_loss: 5.4688 - val_accuracy: 0.0339 - val_auc: 0.6608\n",
      "\n",
      "Epoch 00097: val_accuracy did not improve from 0.04159\n",
      "Epoch 98/100\n",
      "192/192 [==============================] - 121s 628ms/step - loss: 5.1926 - accuracy: 0.0482 - auc: 0.7044 - val_loss: 5.7527 - val_accuracy: 0.0191 - val_auc: 0.6007\n",
      "\n",
      "Epoch 00098: val_accuracy did not improve from 0.04159\n",
      "Epoch 99/100\n",
      "192/192 [==============================] - 127s 663ms/step - loss: 5.1923 - accuracy: 0.0477 - auc: 0.7043 - val_loss: 5.6412 - val_accuracy: 0.0273 - val_auc: 0.6245\n",
      "\n",
      "Epoch 00099: val_accuracy did not improve from 0.04159\n",
      "Epoch 100/100\n",
      "192/192 [==============================] - 121s 632ms/step - loss: 5.1932 - accuracy: 0.0452 - auc: 0.7043 - val_loss: 5.4721 - val_accuracy: 0.0346 - val_auc: 0.6534\n",
      "\n",
      "Epoch 00100: val_accuracy did not improve from 0.04159\n"
     ]
    },
    {
     "data": {
      "text/plain": [
       "<tensorflow.python.keras.callbacks.History at 0x7f9148551ad0>"
      ]
     },
     "execution_count": 38,
     "metadata": {},
     "output_type": "execute_result"
    }
   ],
   "source": [
    "model.fit(\n",
    "    inputs, \n",
    "    outputs, \n",
    "    epochs=100,\n",
    "    batch_size=256, \n",
    "    validation_split=0.2, \n",
    "    callbacks=[early_stopping_monitor, mcp_save]\n",
    ")"
   ]
  },
  {
   "cell_type": "code",
   "execution_count": 39,
   "id": "emerging-inside",
   "metadata": {
    "execution": {
     "iopub.execute_input": "2021-04-30T02:22:58.455898Z",
     "iopub.status.busy": "2021-04-30T02:22:58.415978Z",
     "iopub.status.idle": "2021-04-30T02:22:59.305564Z",
     "shell.execute_reply": "2021-04-30T02:22:59.305032Z"
    },
    "papermill": {
     "duration": 16.694385,
     "end_time": "2021-04-30T02:22:59.305720",
     "exception": false,
     "start_time": "2021-04-30T02:22:42.611335",
     "status": "completed"
    },
    "tags": []
   },
   "outputs": [
    {
     "name": "stdout",
     "output_type": "stream",
     "text": [
      "rm: cannot remove 'rf': No such file or directory\r\n",
      "rm: cannot remove 'train_soundscapes': No such file or directory\r\n"
     ]
    }
   ],
   "source": [
    "!rm rf train_soundscapes"
   ]
  },
  {
   "cell_type": "code",
   "execution_count": 40,
   "id": "twelve-burlington",
   "metadata": {
    "execution": {
     "iopub.execute_input": "2021-04-30T02:23:30.967791Z",
     "iopub.status.busy": "2021-04-30T02:23:30.939774Z",
     "iopub.status.idle": "2021-04-30T02:23:31.725823Z",
     "shell.execute_reply": "2021-04-30T02:23:31.725268Z"
    },
    "papermill": {
     "duration": 16.654728,
     "end_time": "2021-04-30T02:23:31.725966",
     "exception": false,
     "start_time": "2021-04-30T02:23:15.071238",
     "status": "completed"
    },
    "tags": []
   },
   "outputs": [],
   "source": [
    "!mkdir train_soundscapes_2"
   ]
  },
  {
   "cell_type": "code",
   "execution_count": 41,
   "id": "declared-preview",
   "metadata": {
    "execution": {
     "iopub.execute_input": "2021-04-30T02:24:03.573131Z",
     "iopub.status.busy": "2021-04-30T02:24:03.572354Z",
     "iopub.status.idle": "2021-04-30T02:24:03.585707Z",
     "shell.execute_reply": "2021-04-30T02:24:03.585035Z"
    },
    "papermill": {
     "duration": 15.974931,
     "end_time": "2021-04-30T02:24:03.585858",
     "exception": false,
     "start_time": "2021-04-30T02:23:47.610927",
     "status": "completed"
    },
    "tags": []
   },
   "outputs": [],
   "source": [
    "soundscape_links = []\n",
    "filenames = []\n",
    "for soundscape in os.listdir(soundscapes):\n",
    "    soundscape_link = soundscapes + '/' + soundscape\n",
    "    soundscape_links.append(soundscape_link)\n",
    "    filenames.append(soundscape.split('.')[0])"
   ]
  },
  {
   "cell_type": "code",
   "execution_count": 42,
   "id": "obvious-accordance",
   "metadata": {
    "execution": {
     "iopub.execute_input": "2021-04-30T02:24:35.453570Z",
     "iopub.status.busy": "2021-04-30T02:24:35.453008Z",
     "iopub.status.idle": "2021-04-30T02:24:35.457401Z",
     "shell.execute_reply": "2021-04-30T02:24:35.456882Z"
    },
    "papermill": {
     "duration": 16.042733,
     "end_time": "2021-04-30T02:24:35.457544",
     "exception": false,
     "start_time": "2021-04-30T02:24:19.414811",
     "status": "completed"
    },
    "tags": []
   },
   "outputs": [
    {
     "name": "stdout",
     "output_type": "stream",
     "text": [
      "../input/birdclef-2021/train_soundscapes/20152_SSW_20170805.ogg\n",
      "20152_SSW_20170805\n"
     ]
    }
   ],
   "source": [
    "print(soundscape_links[0])\n",
    "print(filenames[0])\n",
    "output_links = []"
   ]
  },
  {
   "cell_type": "code",
   "execution_count": 43,
   "id": "collective-valentine",
   "metadata": {
    "execution": {
     "iopub.execute_input": "2021-04-30T02:25:07.102805Z",
     "iopub.status.busy": "2021-04-30T02:25:07.102156Z",
     "iopub.status.idle": "2021-04-30T02:25:07.105127Z",
     "shell.execute_reply": "2021-04-30T02:25:07.104620Z"
    },
    "papermill": {
     "duration": 15.870333,
     "end_time": "2021-04-30T02:25:07.105264",
     "exception": false,
     "start_time": "2021-04-30T02:24:51.234931",
     "status": "completed"
    },
    "tags": []
   },
   "outputs": [],
   "source": [
    "def extract_soundscape_spectogram(path, file_name):\n",
    "    start_sample = 0 # starting at beginning\n",
    "    length_samples = time_steps * hop_length\n",
    "    y, sr = librosa.load(path, offset=offset, duration=duration, sr=sample_rate)\n",
    "    counter = 5\n",
    "#     output_links = []\n",
    "    while (start_sample <= len(y) and start_sample + length_samples <= len(y)):\n",
    "        # extract a fixed length window\n",
    "        window = y[start_sample: start_sample + length_samples]\n",
    "        # convert to PNG\n",
    "        spectrogram_image(window, \n",
    "                          sr=sr, \n",
    "                          out='train_soundscapes_2/' + file_name + \"_\" + str(counter) + \".png\", \n",
    "                          hop_length=hop_length, \n",
    "                          n_mels=n_mels)\n",
    "        start_sample = start_sample + length_samples\n",
    "        output_links.append(file_name + \"_\" + str(counter) + \".png\")\n",
    "        counter += 5"
   ]
  },
  {
   "cell_type": "code",
   "execution_count": 44,
   "id": "right-hampton",
   "metadata": {
    "execution": {
     "iopub.execute_input": "2021-04-30T02:25:38.860463Z",
     "iopub.status.busy": "2021-04-30T02:25:38.859849Z",
     "iopub.status.idle": "2021-04-30T02:25:42.375641Z",
     "shell.execute_reply": "2021-04-30T02:25:42.376617Z"
    },
    "papermill": {
     "duration": 19.405506,
     "end_time": "2021-04-30T02:25:42.376876",
     "exception": false,
     "start_time": "2021-04-30T02:25:22.971370",
     "status": "completed"
    },
    "tags": []
   },
   "outputs": [
    {
     "name": "stderr",
     "output_type": "stream",
     "text": [
      "100%|██████████| 20/20 [00:03<00:00,  5.70it/s]\n"
     ]
    }
   ],
   "source": [
    "for i in tqdm(range(len(soundscape_links))):\n",
    "    extract_soundscape_spectogram(soundscape_links[i], filenames[i])"
   ]
  },
  {
   "cell_type": "code",
   "execution_count": 45,
   "id": "green-minnesota",
   "metadata": {
    "execution": {
     "iopub.execute_input": "2021-04-30T02:26:13.933481Z",
     "iopub.status.busy": "2021-04-30T02:26:13.931334Z",
     "iopub.status.idle": "2021-04-30T02:26:13.935987Z",
     "shell.execute_reply": "2021-04-30T02:26:13.935264Z"
    },
    "papermill": {
     "duration": 15.735116,
     "end_time": "2021-04-30T02:26:13.936186",
     "exception": false,
     "start_time": "2021-04-30T02:25:58.201070",
     "status": "completed"
    },
    "tags": []
   },
   "outputs": [
    {
     "data": {
      "text/plain": [
       "(20, 20)"
      ]
     },
     "execution_count": 45,
     "metadata": {},
     "output_type": "execute_result"
    }
   ],
   "source": [
    "len(soundscape_links), len(output_links)"
   ]
  },
  {
   "cell_type": "code",
   "execution_count": 46,
   "id": "velvet-cardiff",
   "metadata": {
    "execution": {
     "iopub.execute_input": "2021-04-30T02:26:45.761462Z",
     "iopub.status.busy": "2021-04-30T02:26:45.760796Z",
     "iopub.status.idle": "2021-04-30T02:26:45.764463Z",
     "shell.execute_reply": "2021-04-30T02:26:45.765083Z"
    },
    "papermill": {
     "duration": 15.843365,
     "end_time": "2021-04-30T02:26:45.765284",
     "exception": false,
     "start_time": "2021-04-30T02:26:29.921919",
     "status": "completed"
    },
    "tags": []
   },
   "outputs": [
    {
     "data": {
      "text/plain": [
       "['20152_SSW_20170805_5.png',\n",
       " '57610_COR_20190904_5.png',\n",
       " '7843_SSW_20170325_5.png',\n",
       " '42907_SSW_20170708_5.png',\n",
       " '7019_COR_20190904_5.png',\n",
       " '54955_SSW_20170617_5.png',\n",
       " '10534_SSW_20170429_5.png',\n",
       " '2782_SSW_20170701_5.png',\n",
       " '11254_COR_20190904_5.png',\n",
       " '7954_COR_20190923_5.png',\n",
       " '26746_COR_20191004_5.png',\n",
       " '18003_COR_20190904_5.png',\n",
       " '31928_COR_20191004_5.png',\n",
       " '51010_SSW_20170513_5.png',\n",
       " '21767_COR_20190904_5.png',\n",
       " '14473_SSW_20170701_5.png',\n",
       " '44957_COR_20190923_5.png',\n",
       " '50878_COR_20191004_5.png',\n",
       " '28933_SSW_20170408_5.png',\n",
       " '26709_SSW_20170701_5.png']"
      ]
     },
     "execution_count": 46,
     "metadata": {},
     "output_type": "execute_result"
    }
   ],
   "source": [
    "output_links"
   ]
  },
  {
   "cell_type": "code",
   "execution_count": 47,
   "id": "crude-niagara",
   "metadata": {
    "execution": {
     "iopub.execute_input": "2021-04-30T02:27:17.793122Z",
     "iopub.status.busy": "2021-04-30T02:27:17.792447Z",
     "iopub.status.idle": "2021-04-30T02:27:17.819449Z",
     "shell.execute_reply": "2021-04-30T02:27:17.818815Z"
    },
    "papermill": {
     "duration": 16.107125,
     "end_time": "2021-04-30T02:27:17.819582",
     "exception": false,
     "start_time": "2021-04-30T02:27:01.712457",
     "status": "completed"
    },
    "tags": []
   },
   "outputs": [],
   "source": [
    "x_test = imagetensor('./train_soundscapes_2/')"
   ]
  },
  {
   "cell_type": "code",
   "execution_count": 48,
   "id": "grand-weather",
   "metadata": {
    "execution": {
     "iopub.execute_input": "2021-04-30T02:27:49.404088Z",
     "iopub.status.busy": "2021-04-30T02:27:49.403061Z",
     "iopub.status.idle": "2021-04-30T02:27:49.406555Z",
     "shell.execute_reply": "2021-04-30T02:27:49.406981Z"
    },
    "papermill": {
     "duration": 15.852622,
     "end_time": "2021-04-30T02:27:49.407158",
     "exception": false,
     "start_time": "2021-04-30T02:27:33.554536",
     "status": "completed"
    },
    "tags": []
   },
   "outputs": [
    {
     "data": {
      "text/plain": [
       "(20, 32, 96)"
      ]
     },
     "execution_count": 48,
     "metadata": {},
     "output_type": "execute_result"
    }
   ],
   "source": [
    "x_test.shape"
   ]
  },
  {
   "cell_type": "code",
   "execution_count": 49,
   "id": "written-conviction",
   "metadata": {
    "execution": {
     "iopub.execute_input": "2021-04-30T02:28:20.991456Z",
     "iopub.status.busy": "2021-04-30T02:28:20.990516Z",
     "iopub.status.idle": "2021-04-30T02:28:21.009973Z",
     "shell.execute_reply": "2021-04-30T02:28:21.009377Z"
    },
    "papermill": {
     "duration": 15.827811,
     "end_time": "2021-04-30T02:28:21.010123",
     "exception": false,
     "start_time": "2021-04-30T02:28:05.182312",
     "status": "completed"
    },
    "tags": []
   },
   "outputs": [],
   "source": [
    "x_test = x_test.reshape((20, 32, 96, 1))\n",
    "np.savez_compressed('test_reduced_32_96', x=x_test)"
   ]
  },
  {
   "cell_type": "code",
   "execution_count": 50,
   "id": "threaded-vacuum",
   "metadata": {
    "execution": {
     "iopub.execute_input": "2021-04-30T02:28:52.759907Z",
     "iopub.status.busy": "2021-04-30T02:28:52.759304Z",
     "iopub.status.idle": "2021-04-30T02:28:52.965338Z",
     "shell.execute_reply": "2021-04-30T02:28:52.964700Z"
    },
    "papermill": {
     "duration": 16.044898,
     "end_time": "2021-04-30T02:28:52.965489",
     "exception": false,
     "start_time": "2021-04-30T02:28:36.920591",
     "status": "completed"
    },
    "tags": []
   },
   "outputs": [],
   "source": [
    "from tensorflow import keras\n",
    "model = keras.models.load_model('./best_model.h5')"
   ]
  },
  {
   "cell_type": "code",
   "execution_count": 51,
   "id": "homeless-secret",
   "metadata": {
    "execution": {
     "iopub.execute_input": "2021-04-30T02:29:24.637274Z",
     "iopub.status.busy": "2021-04-30T02:29:24.636623Z",
     "iopub.status.idle": "2021-04-30T02:29:24.829307Z",
     "shell.execute_reply": "2021-04-30T02:29:24.830259Z"
    },
    "papermill": {
     "duration": 15.990549,
     "end_time": "2021-04-30T02:29:24.830446",
     "exception": false,
     "start_time": "2021-04-30T02:29:08.839897",
     "status": "completed"
    },
    "tags": []
   },
   "outputs": [],
   "source": [
    "p = model.predict(x_test)\n",
    "y_prob = np.argmax(p, axis=1)"
   ]
  },
  {
   "cell_type": "code",
   "execution_count": 52,
   "id": "organic-donna",
   "metadata": {
    "execution": {
     "iopub.execute_input": "2021-04-30T02:29:56.276889Z",
     "iopub.status.busy": "2021-04-30T02:29:56.275923Z",
     "iopub.status.idle": "2021-04-30T02:29:56.279100Z",
     "shell.execute_reply": "2021-04-30T02:29:56.278621Z"
    },
    "papermill": {
     "duration": 15.701301,
     "end_time": "2021-04-30T02:29:56.279235",
     "exception": false,
     "start_time": "2021-04-30T02:29:40.577934",
     "status": "completed"
    },
    "tags": []
   },
   "outputs": [],
   "source": [
    "submission = []\n",
    "for i in range(len(p)):\n",
    "    data = {}\n",
    "    label = output_links[i].split('_')[0] + '_' + output_links[i].split('_')[1] + '_' + output_links[i].split('_')[-1].split('.png')[0]\n",
    "    data['row_id'] = label\n",
    "    if (p[i][y_prob[i]]) < threshold:\n",
    "        data['birds'] = 'nocall'\n",
    "    else:\n",
    "        data['birds'] = labels[y_prob[i]]\n",
    "    submission.append(data)"
   ]
  },
  {
   "cell_type": "code",
   "execution_count": 53,
   "id": "czech-tobago",
   "metadata": {
    "execution": {
     "iopub.execute_input": "2021-04-30T02:30:27.795740Z",
     "iopub.status.busy": "2021-04-30T02:30:27.795009Z",
     "iopub.status.idle": "2021-04-30T02:30:27.804340Z",
     "shell.execute_reply": "2021-04-30T02:30:27.803754Z"
    },
    "papermill": {
     "duration": 15.708934,
     "end_time": "2021-04-30T02:30:27.804477",
     "exception": false,
     "start_time": "2021-04-30T02:30:12.095543",
     "status": "completed"
    },
    "tags": []
   },
   "outputs": [
    {
     "data": {
      "text/html": [
       "<div>\n",
       "<style scoped>\n",
       "    .dataframe tbody tr th:only-of-type {\n",
       "        vertical-align: middle;\n",
       "    }\n",
       "\n",
       "    .dataframe tbody tr th {\n",
       "        vertical-align: top;\n",
       "    }\n",
       "\n",
       "    .dataframe thead th {\n",
       "        text-align: right;\n",
       "    }\n",
       "</style>\n",
       "<table border=\"1\" class=\"dataframe\">\n",
       "  <thead>\n",
       "    <tr style=\"text-align: right;\">\n",
       "      <th></th>\n",
       "      <th>row_id</th>\n",
       "      <th>birds</th>\n",
       "    </tr>\n",
       "  </thead>\n",
       "  <tbody>\n",
       "    <tr>\n",
       "      <th>0</th>\n",
       "      <td>20152_SSW_5</td>\n",
       "      <td>grasal1</td>\n",
       "    </tr>\n",
       "    <tr>\n",
       "      <th>1</th>\n",
       "      <td>57610_COR_5</td>\n",
       "      <td>barswa</td>\n",
       "    </tr>\n",
       "    <tr>\n",
       "      <th>2</th>\n",
       "      <td>7843_SSW_5</td>\n",
       "      <td>barswa</td>\n",
       "    </tr>\n",
       "    <tr>\n",
       "      <th>3</th>\n",
       "      <td>42907_SSW_5</td>\n",
       "      <td>barswa</td>\n",
       "    </tr>\n",
       "    <tr>\n",
       "      <th>4</th>\n",
       "      <td>7019_COR_5</td>\n",
       "      <td>barswa</td>\n",
       "    </tr>\n",
       "  </tbody>\n",
       "</table>\n",
       "</div>"
      ],
      "text/plain": [
       "        row_id    birds\n",
       "0  20152_SSW_5  grasal1\n",
       "1  57610_COR_5   barswa\n",
       "2   7843_SSW_5   barswa\n",
       "3  42907_SSW_5   barswa\n",
       "4   7019_COR_5   barswa"
      ]
     },
     "execution_count": 53,
     "metadata": {},
     "output_type": "execute_result"
    }
   ],
   "source": [
    "df_submission = pd.DataFrame(submission)\n",
    "df_submission.head()"
   ]
  },
  {
   "cell_type": "code",
   "execution_count": 54,
   "id": "expired-darkness",
   "metadata": {
    "execution": {
     "iopub.execute_input": "2021-04-30T02:30:59.303599Z",
     "iopub.status.busy": "2021-04-30T02:30:59.302684Z",
     "iopub.status.idle": "2021-04-30T02:30:59.316670Z",
     "shell.execute_reply": "2021-04-30T02:30:59.315994Z"
    },
    "papermill": {
     "duration": 15.694312,
     "end_time": "2021-04-30T02:30:59.316810",
     "exception": false,
     "start_time": "2021-04-30T02:30:43.622498",
     "status": "completed"
    },
    "tags": []
   },
   "outputs": [],
   "source": [
    "df_submission.to_csv(\"submission.csv\", index=False)"
   ]
  }
 ],
 "metadata": {
  "kernelspec": {
   "display_name": "Python 3",
   "language": "python",
   "name": "python3"
  },
  "language_info": {
   "codemirror_mode": {
    "name": "ipython",
    "version": 3
   },
   "file_extension": ".py",
   "mimetype": "text/x-python",
   "name": "python",
   "nbconvert_exporter": "python",
   "pygments_lexer": "ipython3",
   "version": "3.7.10"
  },
  "papermill": {
   "default_parameters": {},
   "duration": 18679.088627,
   "end_time": "2021-04-30T02:31:17.298901",
   "environment_variables": {},
   "exception": null,
   "input_path": "__notebook__.ipynb",
   "output_path": "__notebook__.ipynb",
   "parameters": {},
   "start_time": "2021-04-29T21:19:58.210274",
   "version": "2.3.3"
  }
 },
 "nbformat": 4,
 "nbformat_minor": 5
}
