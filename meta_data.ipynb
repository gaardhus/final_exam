{
 "metadata": {
  "language_info": {
   "codemirror_mode": {
    "name": "ipython",
    "version": 3
   },
   "file_extension": ".py",
   "mimetype": "text/x-python",
   "name": "python",
   "nbconvert_exporter": "python",
   "pygments_lexer": "ipython3",
   "version": "3.7.10"
  },
  "orig_nbformat": 2,
  "kernelspec": {
   "name": "python3710jvsc74a57bd0b22ddb238666eebe499ae082c9c70572f373af9562648e4574b049560ea37ef8",
   "display_name": "Python 3.7.10 64-bit ('applied_ml': conda)"
  }
 },
 "nbformat": 4,
 "nbformat_minor": 2,
 "cells": [
  {
   "cell_type": "code",
   "execution_count": 7,
   "metadata": {},
   "outputs": [],
   "source": [
    "import pandas as pd\n",
    "import plotly.express as px"
   ]
  },
  {
   "cell_type": "code",
   "execution_count": 2,
   "metadata": {},
   "outputs": [],
   "source": [
    "train_metadata = pd.read_csv('train_metadata.csv')"
   ]
  },
  {
   "cell_type": "code",
   "execution_count": 11,
   "metadata": {},
   "outputs": [
    {
     "output_type": "display_data",
     "data": {
      "application/vnd.plotly.v1+json": {
       "config": {
        "plotlyServerURL": "https://plot.ly"
       },
       "data": [
        {
         "alignmentgroup": "True",
         "hovertemplate": "variable=common_name<br>value=%{x}<br>index=%{y}<extra></extra>",
         "legendgroup": "common_name",
         "marker": {
          "color": "#636efa"
         },
         "name": "common_name",
         "offsetgroup": "common_name",
         "orientation": "h",
         "showlegend": true,
         "textposition": "auto",
         "type": "bar",
         "x": [
          8,
          8,
          9,
          10,
          12,
          18,
          19,
          22,
          22,
          34,
          35,
          35,
          36,
          37,
          37,
          37,
          38,
          38,
          42,
          42,
          42,
          44,
          45,
          46,
          46,
          47,
          47,
          49,
          50,
          51,
          52,
          52,
          53,
          53,
          53,
          54,
          58,
          58,
          59,
          61,
          62,
          62,
          63,
          63,
          64,
          64,
          64,
          65,
          65,
          66,
          66,
          66,
          66,
          67,
          67,
          67,
          68,
          68,
          68,
          69,
          69,
          69,
          70,
          70,
          71,
          73,
          74,
          74,
          74,
          75,
          75,
          76,
          76,
          77,
          77,
          78,
          78,
          79,
          79,
          80,
          80,
          80,
          81,
          81,
          81,
          81,
          81,
          82,
          82,
          82,
          83,
          84,
          85,
          85,
          85,
          87,
          87,
          87,
          87,
          87,
          87,
          88,
          88,
          88,
          89,
          89,
          89,
          90,
          91,
          91,
          92,
          92,
          92,
          92,
          93,
          94,
          94,
          94,
          95,
          95,
          96,
          96,
          96,
          98,
          98,
          98,
          98,
          98,
          99,
          99,
          99,
          99,
          99,
          100,
          100,
          100,
          100,
          101,
          102,
          103,
          103,
          104,
          105,
          105,
          106,
          107,
          107,
          107,
          108,
          109,
          109,
          110,
          110,
          111,
          111,
          112,
          112,
          113,
          113,
          114,
          115,
          115,
          116,
          116,
          117,
          117,
          118,
          119,
          120,
          120,
          120,
          120,
          120,
          120,
          120,
          120,
          121,
          121,
          122,
          123,
          123,
          123,
          124,
          125,
          125,
          126,
          126,
          126,
          127,
          127,
          127,
          128,
          128,
          128,
          130,
          130,
          131,
          131,
          132,
          132,
          132,
          133,
          133,
          134,
          134,
          135,
          135,
          136,
          137,
          137,
          137,
          137,
          137,
          139,
          141,
          141,
          141,
          141,
          141,
          142,
          142,
          144,
          144,
          145,
          146,
          146,
          148,
          148,
          148,
          148,
          148,
          149,
          150,
          150,
          150,
          153,
          153,
          153,
          153,
          154,
          154,
          154,
          154,
          155,
          156,
          157,
          159,
          159,
          160,
          161,
          161,
          162,
          162,
          163,
          164,
          165,
          165,
          165,
          165,
          166,
          167,
          167,
          168,
          168,
          169,
          169,
          170,
          173,
          173,
          174,
          174,
          176,
          176,
          177,
          179,
          179,
          179,
          179,
          180,
          181,
          181,
          182,
          184,
          185,
          185,
          187,
          190,
          191,
          192,
          192,
          192,
          193,
          193,
          193,
          194,
          194,
          195,
          196,
          198,
          198,
          199,
          200,
          201,
          201,
          201,
          202,
          202,
          204,
          204,
          205,
          205,
          205,
          207,
          208,
          209,
          209,
          210,
          210,
          210,
          211,
          217,
          218,
          218,
          219,
          219,
          223,
          226,
          227,
          227,
          227,
          229,
          231,
          236,
          240,
          240,
          242,
          243,
          245,
          245,
          247,
          250,
          256,
          258,
          263,
          265,
          265,
          272,
          273,
          278,
          280,
          283,
          283,
          289,
          289,
          290,
          293,
          297,
          299,
          302,
          306,
          308,
          309,
          310,
          317,
          317,
          328,
          334,
          338,
          340,
          342,
          347,
          350,
          357,
          359,
          368,
          391,
          398,
          403,
          406,
          441,
          450,
          464,
          466,
          481,
          484,
          500,
          500,
          500,
          500,
          500,
          500,
          500,
          500,
          500,
          500,
          500,
          500
         ],
         "xaxis": "x",
         "y": [
          "Crimson-fronted Parakeet",
          "Steely-vented Hummingbird",
          "Rufous-naped Wren",
          "White-eared Ground-Sparrow",
          "White-crowned Parrot",
          "Hoffmann's Woodpecker",
          "Flame-rumped Tanager",
          "Hepatic Tanager",
          "Gray-headed Chachalaca",
          "Ruby-throated Hummingbird",
          "Red-breasted Sapsucker",
          "Black-capped Tanager",
          "Cackling Goose",
          "Red-headed Barbet",
          "Northern Rough-winged Swallow",
          "Scrub Tanager",
          "Lesson's Motmot",
          "American Wigeon",
          "Palm Warbler",
          "Blue-winged Teal",
          "Orange-fronted Parakeet",
          "American Avocet",
          "Bronze-winged Parrot",
          "Andean Motmot",
          "Mountain Quail",
          "Philadelphia Vireo",
          "Crested Guan",
          "Wood Duck",
          "Nuttall's Woodpecker",
          "Hermit Warbler",
          "Brewer's Blackbird",
          "Yellow-throated Euphonia",
          "Bonaparte's Gull",
          "Bay-breasted Warbler",
          "Western Bluebird",
          "Long-tailed Manakin",
          "Bald Eagle",
          "Green Heron",
          "Great Tinamou",
          "Streak-headed Woodcreeper",
          "Least Sandpiper",
          "Black-chested Jay",
          "Yellow-bellied Sapsucker",
          "Ring-billed Gull",
          "Keel-billed Toucan",
          "Rufous Hummingbird",
          "Montezuma Oropendola",
          "Chestnut-backed Chickadee",
          "Semipalmated Plover",
          "Brown Jay",
          "Laughing Gull",
          "Ruddy Ground Dove",
          "Prothonotary Warbler",
          "Yellow Grosbeak",
          "Yellow-faced Grassquit",
          "Broad-winged Hawk",
          "Scarlet Macaw",
          "Long-tailed Duck",
          "Rose-throated Becard",
          "Long-billed Dowitcher",
          "Morelet's Seedeater",
          "Violet-green Swallow",
          "Wild Turkey",
          "Common Ground Dove",
          "Black-billed Magpie",
          "California Scrub-Jay",
          "Gartered Trogon",
          "Wrentit",
          "Royal Tern",
          "Golden-olive Woodpecker",
          "Sanderling",
          "Northern Shoveler",
          "Pygmy Nuthatch",
          "Belted Kingfisher",
          "Rufous-breasted Wren",
          "Tropical Pewee",
          "Solitary Sandpiper",
          "White-fronted Parrot",
          "Great Black-backed Gull",
          "American Tree Sparrow",
          "Lucy's Warbler",
          "Streak-headed Antbird",
          "Say's Phoebe",
          "Melodious Blackbird",
          "Broad-billed Motmot",
          "Black-throated Blue Warbler",
          "Yellow-headed Blackbird",
          "Cocoa Woodcreeper",
          "Great Blue Heron",
          "American Kestrel",
          "Gambel's Quail",
          "Boat-tailed Grackle",
          "Band-tailed Pigeon",
          "Golden-crowned Sparrow",
          "Cabanis's Wren",
          "Purple Gallinule",
          "Gray Hawk",
          "Blue-and-white Swallow",
          "Red-shouldered Hawk",
          "Common Merganser",
          "Yellow-green Vireo",
          "Red-lored Parrot",
          "Orange-chinned Parakeet",
          "Rufous-tailed Hummingbird",
          "Eastern Kingbird",
          "Rufous-and-white Wren",
          "California Towhee",
          "Colombian Chachalaca",
          "Golden-headed Quetzal",
          "Lesser Greenlet",
          "Ladder-backed Woodpecker",
          "Spotted Sandpiper",
          "Greater Pewee",
          "Tundra Swan",
          "Thick-billed Kingbird",
          "Willet",
          "Groove-billed Ani",
          "Tree Swallow",
          "Cliff Swallow",
          "Yellow-bellied Seedeater",
          "Shiny Cowbird",
          "Snow Goose",
          "Townsend's Solitaire",
          "Pale-vented Pigeon",
          "Cattle Egret",
          "Cedar Waxwing",
          "Inca Dove",
          "American Pipit",
          "Red-tailed Hawk",
          "Pileated Woodpecker",
          "Chestnut-breasted Wren",
          "Brown-capped Vireo",
          "Clark's Nutcracker",
          "Gila Woodpecker",
          "Common Goldeneye",
          "Black-billed Thrush",
          "Purple-throated Fruitcrow",
          "Western Kingbird",
          "Mountain Elaenia",
          "Black-throated Green Warbler",
          "Banded Wren",
          "Thick-billed Euphonia",
          "Lark Sparrow",
          "Elegant Trogon",
          "Yellow-bellied Flycatcher",
          "Oak Titmouse",
          "Yellow-throated Vireo",
          "Sparkling Violetear",
          "Sinaloa Wren",
          "Cooper's Hawk",
          "Eastern Phoebe",
          "Common Loon",
          "Palm Tanager",
          "Blackburnian Warbler",
          "Black-striped Sparrow",
          "Black-throated Gray Warbler",
          "Yellow-backed Oriole",
          "Dusky Flycatcher",
          "Eastern Bluebird",
          "California Quail",
          "Yellow Warbler",
          "Streaked Saltator",
          "Rusty-margined Flycatcher",
          "Golden-crowned Flycatcher",
          "Cassin's Vireo",
          "Golden-faced Tyrannulet",
          "Greater Yellowlegs",
          "Wedge-billed Woodcreeper",
          "Mourning Dove",
          "Silver-beaked Tanager",
          "Lazuli Bunting",
          "Common Potoo",
          "Three-striped Warbler",
          "Cinnamon Flycatcher",
          "Black-crowned Antshrike",
          "Ochre-bellied Flycatcher",
          "Olive-sided Flycatcher",
          "Scarlet Tanager",
          "Green-tailed Towhee",
          "Anna's Hummingbird",
          "Cassin's Finch",
          "Wilson's Snipe",
          "Ringed Kingfisher",
          "Swamp Sparrow",
          "White-winged Dove",
          "Canada Warbler",
          "Ruddy Turnstone",
          "Yellow-headed Caracara",
          "American Coot",
          "Mourning Warbler",
          "Rose-breasted Grosbeak",
          "Common Grackle",
          "Rock Pigeon",
          "Streak-backed Oriole",
          "Pied-billed Grebe",
          "Nashville Warbler",
          "Tropical Mockingbird",
          "Rufous-backed Robin",
          "Crested Oropendola",
          "Masked Trogon",
          "Acadian Flycatcher",
          "White-winged Becard",
          "Green Jay",
          "Black Phoebe",
          "Ruddy Pigeon",
          "Plain Xenops",
          "Saffron Finch",
          "Blue-gray Tanager",
          "Black-necked Stilt",
          "Black-bellied Whistling-Duck",
          "Western Tanager",
          "Red-bellied Woodpecker",
          "Field Sparrow",
          "Orange-billed Sparrow",
          "Common Tody-Flycatcher",
          "Cactus Wren",
          "Golden-crowned Kinglet",
          "Bank Swallow",
          "Plumbeous Vireo",
          "Rufous-tailed Jacamar",
          "Downy Woodpecker",
          "Caspian Tern",
          "Verdin",
          "Yellow-bellied Elaenia",
          "Great Egret",
          "Sulphur-bellied Flycatcher",
          "Tropical Gnatcatcher",
          "Whiskered Wren",
          "Chestnut-sided Warbler",
          "Gadwall",
          "Orange-bellied Euphonia",
          "Brown Thrasher",
          "Pale-breasted Spinetail",
          "Brown-backed Solitaire",
          "Pine Siskin",
          "Black-and-white Warbler",
          "Yellow-throated Toucan",
          "Blue-headed Vireo",
          "Loggerhead Shrike",
          "Least Flycatcher",
          "Carolina Chickadee",
          "Blue Grosbeak",
          "Rufous-capped Warbler",
          "Baltimore Oriole",
          "Bushtit",
          "Pacific-slope Flycatcher",
          "Buff-rumped Warbler",
          "Blue-headed Parrot",
          "Red-breasted Nuthatch",
          "Southern Lapwing",
          "Smooth-billed Ani",
          "Sandhill Crane",
          "Eastern Wood-Pewee",
          "Tennessee Warbler",
          "Killdeer",
          "Great Thrush",
          "Bay Wren",
          "Scale-crested Pygmy-Tyrant",
          "Chestnut-backed Antbird",
          "Chestnut-capped Brushfinch",
          "Russet-crowned Warbler",
          "Lesser Violetear",
          "Scaly-breasted Wren",
          "Red-crowned Ant-Tanager",
          "White-bearded Manakin",
          "Cassin's Kingbird",
          "Fox Sparrow",
          "Northern Parula",
          "Tropical Parula",
          "Lincoln's Sparrow",
          "Lineated Woodpecker",
          "Purple Finch",
          "Hairy Woodpecker",
          "Brown-headed Cowbird",
          "Veery",
          "Osprey",
          "Magnolia Warbler",
          "Herring Gull",
          "Collared Trogon",
          "American Goldfinch",
          "Golden-crowned Warbler",
          "Black-bellied Plover",
          "Common Chlorospingus",
          "Yellow-rumped Warbler",
          "Ovenbird",
          "Great Crested Flycatcher",
          "Acorn Woodpecker",
          "Streaked Flycatcher",
          "Mountain Chickadee",
          "Willow Flycatcher",
          "Olivaceous Woodcreeper",
          "Steller's Jay",
          "Mute Swan",
          "Slate-throated Redstart",
          "Mealy Parrot",
          "MacGillivray's Warbler",
          "Clay-colored Thrush",
          "Blue-black Grassquit",
          "Barred Antshrike",
          "Russet-backed Oropendola",
          "Andean Solitaire",
          "Red-eyed Vireo",
          "Bell's Vireo",
          "Striped Cuckoo",
          "Buff-throated Saltator",
          "Great-tailed Grackle",
          "Indigo Bunting",
          "Little Tinamou",
          "Laughing Falcon",
          "Piratic Flycatcher",
          "Plumbeous Pigeon",
          "Squirrel Cuckoo",
          "Chestnut-crowned Antpitta",
          "Orange-crowned Warbler",
          "Brown Creeper",
          "Hutton's Vireo",
          "Ash-throated Flycatcher",
          "Summer Tanager",
          "Greater White-fronted Goose",
          "Northern Flicker",
          "Western Wood-Pewee",
          "Blue-gray Gnatcatcher",
          "Bullock's Oriole",
          "Black-headed Grosbeak",
          "Northern Waterthrush",
          "Wilson's Warbler",
          "Southern Beardless-Tyrannulet",
          "Alder Flycatcher",
          "Wood Thrush",
          "Lesser Goldfinch",
          "American Crow",
          "Social Flycatcher",
          "Boat-billed Flycatcher",
          "Chipping Sparrow",
          "Eastern Meadowlark",
          "Savannah Sparrow",
          "White-throated Sparrow",
          "Tufted Titmouse",
          "Orange-billed Nightingale-Thrush",
          "White-tipped Dove",
          "White-eyed Vireo",
          "Eastern Towhee",
          "Azara's Spinetail",
          "Ferruginous Pygmy-Owl",
          "Bright-rumped Attila",
          "Canada Goose",
          "Black-capped Chickadee",
          "Ruby-crowned Kinglet",
          "House Finch",
          "Green-winged Teal",
          "Yellow-breasted Chat",
          "American Redstart",
          "Grayish Saltator",
          "Great Horned Owl",
          "Tropical Kingbird",
          "Common Pauraque",
          "Hermit Thrush",
          "Gray Catbird",
          "Yellow-olive Flycatcher",
          "Dusky-capped Flycatcher",
          "Long-billed Gnatwren",
          "Bananaquit",
          "White-crowned Sparrow",
          "Western Meadowlark",
          "White-breasted Nuthatch",
          "Blue Jay",
          "Black-crowned Night-Heron",
          "Roadside Hawk",
          "Northern Mockingbird",
          "Marsh Wren",
          "Whimbrel",
          "White-breasted Wood-Wren",
          "Great Kiskadee",
          "Dark-eyed Junco",
          "Eurasian Collared-Dove",
          "Warbling Vireo",
          "Common Yellowthroat",
          "Rufous-collared Sparrow",
          "Brown-crested Flycatcher",
          "Rufous-browed Peppershrike",
          "Swainson's Thrush",
          "Carolina Wren",
          "Bewick's Wren",
          "American Robin",
          "Mallard",
          "House Sparrow",
          "Spotted Towhee",
          "Gray-breasted Wood-Wren",
          "Red-winged Blackbird",
          "Northern Cardinal",
          "Barn Swallow",
          "Curve-billed Thrasher",
          "Common Raven",
          "Song Sparrow",
          "Red Crossbill",
          "House Wren",
          "European Starling"
         ],
         "yaxis": "y"
        }
       ],
       "layout": {
        "barmode": "relative",
        "legend": {
         "title": {
          "text": "variable"
         },
         "tracegroupgap": 0
        },
        "margin": {
         "t": 60
        },
        "template": {
         "data": {
          "bar": [
           {
            "error_x": {
             "color": "#2a3f5f"
            },
            "error_y": {
             "color": "#2a3f5f"
            },
            "marker": {
             "line": {
              "color": "#E5ECF6",
              "width": 0.5
             }
            },
            "type": "bar"
           }
          ],
          "barpolar": [
           {
            "marker": {
             "line": {
              "color": "#E5ECF6",
              "width": 0.5
             }
            },
            "type": "barpolar"
           }
          ],
          "carpet": [
           {
            "aaxis": {
             "endlinecolor": "#2a3f5f",
             "gridcolor": "white",
             "linecolor": "white",
             "minorgridcolor": "white",
             "startlinecolor": "#2a3f5f"
            },
            "baxis": {
             "endlinecolor": "#2a3f5f",
             "gridcolor": "white",
             "linecolor": "white",
             "minorgridcolor": "white",
             "startlinecolor": "#2a3f5f"
            },
            "type": "carpet"
           }
          ],
          "choropleth": [
           {
            "colorbar": {
             "outlinewidth": 0,
             "ticks": ""
            },
            "type": "choropleth"
           }
          ],
          "contour": [
           {
            "colorbar": {
             "outlinewidth": 0,
             "ticks": ""
            },
            "colorscale": [
             [
              0,
              "#0d0887"
             ],
             [
              0.1111111111111111,
              "#46039f"
             ],
             [
              0.2222222222222222,
              "#7201a8"
             ],
             [
              0.3333333333333333,
              "#9c179e"
             ],
             [
              0.4444444444444444,
              "#bd3786"
             ],
             [
              0.5555555555555556,
              "#d8576b"
             ],
             [
              0.6666666666666666,
              "#ed7953"
             ],
             [
              0.7777777777777778,
              "#fb9f3a"
             ],
             [
              0.8888888888888888,
              "#fdca26"
             ],
             [
              1,
              "#f0f921"
             ]
            ],
            "type": "contour"
           }
          ],
          "contourcarpet": [
           {
            "colorbar": {
             "outlinewidth": 0,
             "ticks": ""
            },
            "type": "contourcarpet"
           }
          ],
          "heatmap": [
           {
            "colorbar": {
             "outlinewidth": 0,
             "ticks": ""
            },
            "colorscale": [
             [
              0,
              "#0d0887"
             ],
             [
              0.1111111111111111,
              "#46039f"
             ],
             [
              0.2222222222222222,
              "#7201a8"
             ],
             [
              0.3333333333333333,
              "#9c179e"
             ],
             [
              0.4444444444444444,
              "#bd3786"
             ],
             [
              0.5555555555555556,
              "#d8576b"
             ],
             [
              0.6666666666666666,
              "#ed7953"
             ],
             [
              0.7777777777777778,
              "#fb9f3a"
             ],
             [
              0.8888888888888888,
              "#fdca26"
             ],
             [
              1,
              "#f0f921"
             ]
            ],
            "type": "heatmap"
           }
          ],
          "heatmapgl": [
           {
            "colorbar": {
             "outlinewidth": 0,
             "ticks": ""
            },
            "colorscale": [
             [
              0,
              "#0d0887"
             ],
             [
              0.1111111111111111,
              "#46039f"
             ],
             [
              0.2222222222222222,
              "#7201a8"
             ],
             [
              0.3333333333333333,
              "#9c179e"
             ],
             [
              0.4444444444444444,
              "#bd3786"
             ],
             [
              0.5555555555555556,
              "#d8576b"
             ],
             [
              0.6666666666666666,
              "#ed7953"
             ],
             [
              0.7777777777777778,
              "#fb9f3a"
             ],
             [
              0.8888888888888888,
              "#fdca26"
             ],
             [
              1,
              "#f0f921"
             ]
            ],
            "type": "heatmapgl"
           }
          ],
          "histogram": [
           {
            "marker": {
             "colorbar": {
              "outlinewidth": 0,
              "ticks": ""
             }
            },
            "type": "histogram"
           }
          ],
          "histogram2d": [
           {
            "colorbar": {
             "outlinewidth": 0,
             "ticks": ""
            },
            "colorscale": [
             [
              0,
              "#0d0887"
             ],
             [
              0.1111111111111111,
              "#46039f"
             ],
             [
              0.2222222222222222,
              "#7201a8"
             ],
             [
              0.3333333333333333,
              "#9c179e"
             ],
             [
              0.4444444444444444,
              "#bd3786"
             ],
             [
              0.5555555555555556,
              "#d8576b"
             ],
             [
              0.6666666666666666,
              "#ed7953"
             ],
             [
              0.7777777777777778,
              "#fb9f3a"
             ],
             [
              0.8888888888888888,
              "#fdca26"
             ],
             [
              1,
              "#f0f921"
             ]
            ],
            "type": "histogram2d"
           }
          ],
          "histogram2dcontour": [
           {
            "colorbar": {
             "outlinewidth": 0,
             "ticks": ""
            },
            "colorscale": [
             [
              0,
              "#0d0887"
             ],
             [
              0.1111111111111111,
              "#46039f"
             ],
             [
              0.2222222222222222,
              "#7201a8"
             ],
             [
              0.3333333333333333,
              "#9c179e"
             ],
             [
              0.4444444444444444,
              "#bd3786"
             ],
             [
              0.5555555555555556,
              "#d8576b"
             ],
             [
              0.6666666666666666,
              "#ed7953"
             ],
             [
              0.7777777777777778,
              "#fb9f3a"
             ],
             [
              0.8888888888888888,
              "#fdca26"
             ],
             [
              1,
              "#f0f921"
             ]
            ],
            "type": "histogram2dcontour"
           }
          ],
          "mesh3d": [
           {
            "colorbar": {
             "outlinewidth": 0,
             "ticks": ""
            },
            "type": "mesh3d"
           }
          ],
          "parcoords": [
           {
            "line": {
             "colorbar": {
              "outlinewidth": 0,
              "ticks": ""
             }
            },
            "type": "parcoords"
           }
          ],
          "pie": [
           {
            "automargin": true,
            "type": "pie"
           }
          ],
          "scatter": [
           {
            "marker": {
             "colorbar": {
              "outlinewidth": 0,
              "ticks": ""
             }
            },
            "type": "scatter"
           }
          ],
          "scatter3d": [
           {
            "line": {
             "colorbar": {
              "outlinewidth": 0,
              "ticks": ""
             }
            },
            "marker": {
             "colorbar": {
              "outlinewidth": 0,
              "ticks": ""
             }
            },
            "type": "scatter3d"
           }
          ],
          "scattercarpet": [
           {
            "marker": {
             "colorbar": {
              "outlinewidth": 0,
              "ticks": ""
             }
            },
            "type": "scattercarpet"
           }
          ],
          "scattergeo": [
           {
            "marker": {
             "colorbar": {
              "outlinewidth": 0,
              "ticks": ""
             }
            },
            "type": "scattergeo"
           }
          ],
          "scattergl": [
           {
            "marker": {
             "colorbar": {
              "outlinewidth": 0,
              "ticks": ""
             }
            },
            "type": "scattergl"
           }
          ],
          "scattermapbox": [
           {
            "marker": {
             "colorbar": {
              "outlinewidth": 0,
              "ticks": ""
             }
            },
            "type": "scattermapbox"
           }
          ],
          "scatterpolar": [
           {
            "marker": {
             "colorbar": {
              "outlinewidth": 0,
              "ticks": ""
             }
            },
            "type": "scatterpolar"
           }
          ],
          "scatterpolargl": [
           {
            "marker": {
             "colorbar": {
              "outlinewidth": 0,
              "ticks": ""
             }
            },
            "type": "scatterpolargl"
           }
          ],
          "scatterternary": [
           {
            "marker": {
             "colorbar": {
              "outlinewidth": 0,
              "ticks": ""
             }
            },
            "type": "scatterternary"
           }
          ],
          "surface": [
           {
            "colorbar": {
             "outlinewidth": 0,
             "ticks": ""
            },
            "colorscale": [
             [
              0,
              "#0d0887"
             ],
             [
              0.1111111111111111,
              "#46039f"
             ],
             [
              0.2222222222222222,
              "#7201a8"
             ],
             [
              0.3333333333333333,
              "#9c179e"
             ],
             [
              0.4444444444444444,
              "#bd3786"
             ],
             [
              0.5555555555555556,
              "#d8576b"
             ],
             [
              0.6666666666666666,
              "#ed7953"
             ],
             [
              0.7777777777777778,
              "#fb9f3a"
             ],
             [
              0.8888888888888888,
              "#fdca26"
             ],
             [
              1,
              "#f0f921"
             ]
            ],
            "type": "surface"
           }
          ],
          "table": [
           {
            "cells": {
             "fill": {
              "color": "#EBF0F8"
             },
             "line": {
              "color": "white"
             }
            },
            "header": {
             "fill": {
              "color": "#C8D4E3"
             },
             "line": {
              "color": "white"
             }
            },
            "type": "table"
           }
          ]
         },
         "layout": {
          "annotationdefaults": {
           "arrowcolor": "#2a3f5f",
           "arrowhead": 0,
           "arrowwidth": 1
          },
          "autotypenumbers": "strict",
          "coloraxis": {
           "colorbar": {
            "outlinewidth": 0,
            "ticks": ""
           }
          },
          "colorscale": {
           "diverging": [
            [
             0,
             "#8e0152"
            ],
            [
             0.1,
             "#c51b7d"
            ],
            [
             0.2,
             "#de77ae"
            ],
            [
             0.3,
             "#f1b6da"
            ],
            [
             0.4,
             "#fde0ef"
            ],
            [
             0.5,
             "#f7f7f7"
            ],
            [
             0.6,
             "#e6f5d0"
            ],
            [
             0.7,
             "#b8e186"
            ],
            [
             0.8,
             "#7fbc41"
            ],
            [
             0.9,
             "#4d9221"
            ],
            [
             1,
             "#276419"
            ]
           ],
           "sequential": [
            [
             0,
             "#0d0887"
            ],
            [
             0.1111111111111111,
             "#46039f"
            ],
            [
             0.2222222222222222,
             "#7201a8"
            ],
            [
             0.3333333333333333,
             "#9c179e"
            ],
            [
             0.4444444444444444,
             "#bd3786"
            ],
            [
             0.5555555555555556,
             "#d8576b"
            ],
            [
             0.6666666666666666,
             "#ed7953"
            ],
            [
             0.7777777777777778,
             "#fb9f3a"
            ],
            [
             0.8888888888888888,
             "#fdca26"
            ],
            [
             1,
             "#f0f921"
            ]
           ],
           "sequentialminus": [
            [
             0,
             "#0d0887"
            ],
            [
             0.1111111111111111,
             "#46039f"
            ],
            [
             0.2222222222222222,
             "#7201a8"
            ],
            [
             0.3333333333333333,
             "#9c179e"
            ],
            [
             0.4444444444444444,
             "#bd3786"
            ],
            [
             0.5555555555555556,
             "#d8576b"
            ],
            [
             0.6666666666666666,
             "#ed7953"
            ],
            [
             0.7777777777777778,
             "#fb9f3a"
            ],
            [
             0.8888888888888888,
             "#fdca26"
            ],
            [
             1,
             "#f0f921"
            ]
           ]
          },
          "colorway": [
           "#636efa",
           "#EF553B",
           "#00cc96",
           "#ab63fa",
           "#FFA15A",
           "#19d3f3",
           "#FF6692",
           "#B6E880",
           "#FF97FF",
           "#FECB52"
          ],
          "font": {
           "color": "#2a3f5f"
          },
          "geo": {
           "bgcolor": "white",
           "lakecolor": "white",
           "landcolor": "#E5ECF6",
           "showlakes": true,
           "showland": true,
           "subunitcolor": "white"
          },
          "hoverlabel": {
           "align": "left"
          },
          "hovermode": "closest",
          "mapbox": {
           "style": "light"
          },
          "paper_bgcolor": "white",
          "plot_bgcolor": "#E5ECF6",
          "polar": {
           "angularaxis": {
            "gridcolor": "white",
            "linecolor": "white",
            "ticks": ""
           },
           "bgcolor": "#E5ECF6",
           "radialaxis": {
            "gridcolor": "white",
            "linecolor": "white",
            "ticks": ""
           }
          },
          "scene": {
           "xaxis": {
            "backgroundcolor": "#E5ECF6",
            "gridcolor": "white",
            "gridwidth": 2,
            "linecolor": "white",
            "showbackground": true,
            "ticks": "",
            "zerolinecolor": "white"
           },
           "yaxis": {
            "backgroundcolor": "#E5ECF6",
            "gridcolor": "white",
            "gridwidth": 2,
            "linecolor": "white",
            "showbackground": true,
            "ticks": "",
            "zerolinecolor": "white"
           },
           "zaxis": {
            "backgroundcolor": "#E5ECF6",
            "gridcolor": "white",
            "gridwidth": 2,
            "linecolor": "white",
            "showbackground": true,
            "ticks": "",
            "zerolinecolor": "white"
           }
          },
          "shapedefaults": {
           "line": {
            "color": "#2a3f5f"
           }
          },
          "ternary": {
           "aaxis": {
            "gridcolor": "white",
            "linecolor": "white",
            "ticks": ""
           },
           "baxis": {
            "gridcolor": "white",
            "linecolor": "white",
            "ticks": ""
           },
           "bgcolor": "#E5ECF6",
           "caxis": {
            "gridcolor": "white",
            "linecolor": "white",
            "ticks": ""
           }
          },
          "title": {
           "x": 0.05
          },
          "xaxis": {
           "automargin": true,
           "gridcolor": "white",
           "linecolor": "white",
           "ticks": "",
           "title": {
            "standoff": 15
           },
           "zerolinecolor": "white",
           "zerolinewidth": 2
          },
          "yaxis": {
           "automargin": true,
           "gridcolor": "white",
           "linecolor": "white",
           "ticks": "",
           "title": {
            "standoff": 15
           },
           "zerolinecolor": "white",
           "zerolinewidth": 2
          }
         }
        },
        "xaxis": {
         "anchor": "y",
         "domain": [
          0,
          1
         ],
         "title": {
          "text": "value"
         }
        },
        "yaxis": {
         "anchor": "x",
         "domain": [
          0,
          1
         ],
         "title": {
          "text": "index"
         }
        }
       }
      }
     },
     "metadata": {}
    }
   ],
   "source": [
    "fig = px.bar(train_metadata['common_name'].value_counts().sort_values(ascending=True), orientation='h')\n",
    "fig.show()"
   ]
  },
  {
   "cell_type": "code",
   "execution_count": null,
   "metadata": {},
   "outputs": [],
   "source": []
  }
 ]
}